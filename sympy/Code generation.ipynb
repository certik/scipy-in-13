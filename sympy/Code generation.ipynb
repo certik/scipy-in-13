{
 "metadata": {
  "name": "Code generation"
 },
 "nbformat": 3,
 "nbformat_minor": 0,
 "worksheets": [
  {
   "cells": [
    {
     "cell_type": "code",
     "collapsed": false,
     "input": [
      "%pylab inline\n",
      "from sympy.interactive import init_printing\n",
      "init_printing()\n",
      "from sympy import pi, var, S\n",
      "from sympy.utilities.codegen import codegen"
     ],
     "language": "python",
     "metadata": {},
     "outputs": [
      {
       "output_type": "stream",
       "stream": "stdout",
       "text": [
        "\n",
        "Welcome to pylab, a matplotlib-based Python environment [backend: module://IPython.zmq.pylab.backend_inline].\n",
        "For more information, type 'help(pylab)'.\n"
       ]
      }
     ],
     "prompt_number": 1
    },
    {
     "cell_type": "markdown",
     "metadata": {},
     "source": [
      "The following code is taken from the article:\n",
      "\n",
      "\u010cert\u00edk, O., Winkler, P. (2013). Computation of screened two-electron matrix elements. International Journal of Quantum Chemistry. doi:10.1002/qua.24431"
     ]
    },
    {
     "cell_type": "code",
     "collapsed": false,
     "input": [
      "from sympy import var, legendre, Integral, \\\n",
      "    exp, latex\n",
      "var(\"l R alpha t\")\n",
      "f = (2*l+1) / (2*t) * Integral(legendre(l, \\\n",
      "    (1-R**2+t**2) / (2*t)) * \\\n",
      "    exp(-alpha*R), (R, 1-t, 1+t))\n",
      "for _l in range(3):\n",
      "    expr = f.subs(l, _l).doit().simplify( ) \\\n",
      "        / exp(-alpha)\n",
      "    expr = expr.series(alpha, 0, 14)\n",
      "    print \" s_%d =\" % _l, latex(expr)"
     ],
     "language": "python",
     "metadata": {},
     "outputs": [
      {
       "output_type": "stream",
       "stream": "stdout",
       "text": [
        " s_0 = 1 + \\frac{1}{6} \\alpha^{2} t^{2} + \\frac{1}{120} \\alpha^{4} t^{4} + \\frac{1}{5040} \\alpha^{6} t^{6} + \\frac{1}{362880} \\alpha^{8} t^{8} + \\frac{1}{39916800} \\alpha^{10} t^{10} + \\frac{1}{6227020800} \\alpha^{12} t^{12} + \\mathcal{O}\\left(\\alpha^{14}\\right)\n",
        " s_1 ="
       ]
      },
      {
       "output_type": "stream",
       "stream": "stdout",
       "text": [
        " t + \\alpha t + \\frac{1}{10} \\alpha^{2} t^{3} + \\frac{1}{10} \\alpha^{3} t^{3} + \\frac{1}{280} \\alpha^{4} t^{5} + \\frac{1}{280} \\alpha^{5} t^{5} + \\frac{1}{15120} \\alpha^{6} t^{7} + \\frac{1}{15120} \\alpha^{7} t^{7} + \\frac{1}{1330560} \\alpha^{8} t^{9} + \\frac{1}{1330560} \\alpha^{9} t^{9} + \\frac{1}{172972800} \\alpha^{10} t^{11} + \\frac{1}{172972800} \\alpha^{11} t^{11} + \\frac{1}{31135104000} \\alpha^{12} t^{13} + \\frac{1}{31135104000} \\alpha^{13} t^{13} + \\mathcal{O}\\left(\\alpha^{14}\\right)\n",
        " s_2 ="
       ]
      },
      {
       "output_type": "stream",
       "stream": "stdout",
       "text": [
        " t^{2} + \\alpha t^{2} + \\alpha^{2} \\left(\\frac{1}{14} t^{4} + \\frac{1}{3} t^{2}\\right) + \\frac{1}{14} \\alpha^{3} t^{4} + \\alpha^{4} \\left(\\frac{1}{504} t^{6} + \\frac{1}{42} t^{4}\\right) + \\frac{1}{504} \\alpha^{5} t^{6} + \\alpha^{6} \\left(\\frac{1}{33264} t^{8} + \\frac{1}{1512} t^{6}\\right) + \\frac{1}{33264} \\alpha^{7} t^{8} + \\alpha^{8} \\left(\\frac{1}{3459456} t^{10} + \\frac{1}{99792} t^{8}\\right) + \\frac{1}{3459456} \\alpha^{9} t^{10} + \\alpha^{10} \\left(\\frac{1}{518918400} t^{12} + \\frac{1}{10378368} t^{10}\\right) + \\frac{1}{518918400} \\alpha^{11} t^{12} + \\alpha^{12} \\left(\\frac{1}{105859353600} t^{14} + \\frac{1}{1556755200} t^{12}\\right) + \\frac{1}{105859353600} \\alpha^{13} t^{14} + \\mathcal{O}\\left(\\alpha^{14}\\right)\n"
       ]
      }
     ],
     "prompt_number": 2
    },
    {
     "cell_type": "code",
     "collapsed": false,
     "input": [
      "f"
     ],
     "language": "python",
     "metadata": {},
     "outputs": [
      {
       "latex": [
        "$$\\frac{\\left(2 l + 1\\right) \\int_{- t + 1}^{t + 1} e^{- R \\alpha} P_{l}\\left(\\frac{- R^{2} + t^{2} + 1}{2 t}\\right)\\, dR}{2 t}$$"
       ],
       "output_type": "pyout",
       "png": "[encoded data removed]",
       "prompt_number": 3,
       "text": [
        "          t + 1                                     \n",
        "            \u2320                                       \n",
        "            \u23ae                  \u239b      2    2    \u239e   \n",
        "            \u23ae     -R\u22c5\u03b1         \u239c   - R  + t  + 1\u239f   \n",
        "(2\u22c5l + 1)\u22c5  \u23ae    \u212f    \u22c5legendre\u239cl, \u2500\u2500\u2500\u2500\u2500\u2500\u2500\u2500\u2500\u2500\u2500\u2500\u2500\u239f dR\n",
        "            \u23ae                  \u239d        2\u22c5t     \u23a0   \n",
        "            \u2321                                       \n",
        "          -t + 1                                    \n",
        "\u2500\u2500\u2500\u2500\u2500\u2500\u2500\u2500\u2500\u2500\u2500\u2500\u2500\u2500\u2500\u2500\u2500\u2500\u2500\u2500\u2500\u2500\u2500\u2500\u2500\u2500\u2500\u2500\u2500\u2500\u2500\u2500\u2500\u2500\u2500\u2500\u2500\u2500\u2500\u2500\u2500\u2500\u2500\u2500\u2500\u2500\u2500\u2500\u2500\u2500\u2500\u2500\n",
        "                        2\u22c5t                         "
       ]
      }
     ],
     "prompt_number": 3
    },
    {
     "cell_type": "code",
     "collapsed": false,
     "input": [
      "expr"
     ],
     "language": "python",
     "metadata": {},
     "outputs": [
      {
       "latex": [
        "$$t^{2} + \\alpha t^{2} + \\alpha^{2} \\left(\\frac{1}{14} t^{4} + \\frac{1}{3} t^{2}\\right) + \\frac{1}{14} \\alpha^{3} t^{4} + \\alpha^{4} \\left(\\frac{1}{504} t^{6} + \\frac{1}{42} t^{4}\\right) + \\frac{1}{504} \\alpha^{5} t^{6} + \\alpha^{6} \\left(\\frac{1}{33264} t^{8} + \\frac{1}{1512} t^{6}\\right) + \\frac{1}{33264} \\alpha^{7} t^{8} + \\alpha^{8} \\left(\\frac{1}{3459456} t^{10} + \\frac{1}{99792} t^{8}\\right) + \\frac{1}{3459456} \\alpha^{9} t^{10} + \\alpha^{10} \\left(\\frac{1}{518918400} t^{12} + \\frac{1}{10378368} t^{10}\\right) + \\frac{1}{518918400} \\alpha^{11} t^{12} + \\alpha^{12} \\left(\\frac{1}{105859353600} t^{14} + \\frac{1}{1556755200} t^{12}\\right) + \\frac{1}{105859353600} \\alpha^{13} t^{14} + \\mathcal{O}\\left(\\alpha^{14}\\right)$$"
       ],
       "output_type": "pyout",
       "png": "[encoded data removed]",
       "prompt_number": 4,
       "text": [
        "               \u239b 4    2\u239e    3  4      \u239b  6    4\u239e    5  6      \u239b   8      6 \u239e  \n",
        " 2      2    2 \u239ct    t \u239f   \u03b1 \u22c5t     4 \u239c t    t \u239f   \u03b1 \u22c5t     6 \u239c  t      t  \u239f  \n",
        "t  + \u03b1\u22c5t  + \u03b1 \u22c5\u239c\u2500\u2500 + \u2500\u2500\u239f + \u2500\u2500\u2500\u2500\u2500 + \u03b1 \u22c5\u239c\u2500\u2500\u2500 + \u2500\u2500\u239f + \u2500\u2500\u2500\u2500\u2500 + \u03b1 \u22c5\u239c\u2500\u2500\u2500\u2500\u2500 + \u2500\u2500\u2500\u2500\u239f +\n",
        "               \u239d14   3 \u23a0     14       \u239d504   42\u23a0    504       \u239d33264   1512\u23a0  \n",
        "\n",
        "  7  8      \u239b   10        8 \u239e     9  10       \u239b    12         10   \u239e     11  1\n",
        " \u03b1 \u22c5t     8 \u239c  t         t  \u239f    \u03b1 \u22c5t      10 \u239c   t          t     \u239f    \u03b1  \u22c5t \n",
        " \u2500\u2500\u2500\u2500\u2500 + \u03b1 \u22c5\u239c\u2500\u2500\u2500\u2500\u2500\u2500\u2500 + \u2500\u2500\u2500\u2500\u2500\u239f + \u2500\u2500\u2500\u2500\u2500\u2500\u2500 + \u03b1  \u22c5\u239c\u2500\u2500\u2500\u2500\u2500\u2500\u2500\u2500\u2500 + \u2500\u2500\u2500\u2500\u2500\u2500\u2500\u2500\u239f + \u2500\u2500\u2500\u2500\u2500\u2500\u2500\n",
        " 33264      \u239d3459456   99792\u23a0   3459456       \u239d518918400   10378368\u23a0   5189184\n",
        "\n",
        "2        \u239b     14            12    \u239e      13  14            \n",
        "      12 \u239c    t             t      \u239f     \u03b1  \u22c5t         \u239b 14\u239e\n",
        "\u2500\u2500 + \u03b1  \u22c5\u239c\u2500\u2500\u2500\u2500\u2500\u2500\u2500\u2500\u2500\u2500\u2500\u2500 + \u2500\u2500\u2500\u2500\u2500\u2500\u2500\u2500\u2500\u2500\u239f + \u2500\u2500\u2500\u2500\u2500\u2500\u2500\u2500\u2500\u2500\u2500\u2500 + O\u239d\u03b1  \u23a0\n",
        "00       \u239d105859353600   1556755200\u23a0   105859353600         "
       ]
      }
     ],
     "prompt_number": 4
    },
    {
     "cell_type": "code",
     "collapsed": false,
     "input": [
      "[(fname, fcode), (hfile, hcode)] = codegen((\"f\", expr), \"F95\", \"test\", header=False, empty=False)"
     ],
     "language": "python",
     "metadata": {},
     "outputs": [],
     "prompt_number": 5
    },
    {
     "cell_type": "code",
     "collapsed": false,
     "input": [
      "fcode"
     ],
     "language": "python",
     "metadata": {},
     "outputs": [
      {
       "output_type": "pyout",
       "prompt_number": 6,
       "text": [
        "                       REAL*8 function f(alpha, t)                        \n",
        "                              implicit none                               \n",
        "                       REAL*8, intent(in) :: alpha                        \n",
        "                         REAL*8, intent(in) :: t                          \n",
        "                          REAL*8 :: O(alpha**14)                          \n",
        "f = t**2 + alpha*t**2 + alpha**2*(t**4/14 + t**2/3) + alpha**3*t**4/14 + &\n",
        "      alpha**4*(t**6/504 + t**4/42) + alpha**5*t**6/504 + alpha**6*(t** & \n",
        "        8/33264 + t**6/1512) + alpha**7*t**8/33264 + alpha**8*(t**10/ &   \n",
        "      3459456 + t**8/99792) + alpha**9*t**10/3459456 + alpha**10*(t**12 & \n",
        "       /518918400 + t**10/10378368) + alpha**11*t**12/518918400 + alpha & \n",
        "       **12*(t**14/105859353600 + t**12/1556755200) + alpha**13*t**14/ &  \n",
        "                          105859353600 + O(alpha**14)                     \n",
        "                               end function                               "
       ]
      }
     ],
     "prompt_number": 6
    },
    {
     "cell_type": "code",
     "collapsed": false,
     "input": [],
     "language": "python",
     "metadata": {},
     "outputs": [],
     "prompt_number": 6
    }
   ],
   "metadata": {}
  }
 ]
}