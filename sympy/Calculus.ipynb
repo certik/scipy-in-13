{
 "metadata": {
  "name": "Calculus"
 },
 "nbformat": 3,
 "nbformat_minor": 0,
 "worksheets": [
  {
   "cells": [
    {
     "cell_type": "heading",
     "level": 1,
     "metadata": {},
     "source": [
      "Calculus"
     ]
    },
    {
     "cell_type": "markdown",
     "metadata": {},
     "source": [
      "Boilerplate to make the doctester work. "
     ]
    },
    {
     "cell_type": "code",
     "collapsed": false,
     "input": [
      "import sys\n",
      "import os\n",
      "sys.path.insert(1, os.path.join(os.path.pardir, \"ipython_doctester\"))\n",
      "from sympy import *\n",
      "from ipython_doctester import test\n",
      "# Work around a bug in IPython. This will disable the ability to paste things with >>>\n",
      "def notransform(line): return line\n",
      "from IPython.core import inputsplitter\n",
      "inputsplitter.transform_classic_prompt = notransform"
     ],
     "language": "python",
     "metadata": {},
     "outputs": [],
     "prompt_number": 1
    },
    {
     "cell_type": "markdown",
     "metadata": {},
     "source": [
      "For each exercise, fill in the function according to its docstring. Execute the cell to see if you did it right. "
     ]
    },
    {
     "cell_type": "code",
     "collapsed": false,
     "input": [
      "x, y, z = symbols('x y z')"
     ],
     "language": "python",
     "metadata": {},
     "outputs": [],
     "prompt_number": 2
    },
    {
     "cell_type": "heading",
     "level": 2,
     "metadata": {},
     "source": [
      "Derivatives"
     ]
    },
    {
     "cell_type": "markdown",
     "metadata": {},
     "source": [
      "Compute the following\n",
      "\n",
      "$$ \\frac{d}{dx}\\sin(x)e^x$$\n",
      "$$ \\frac{\\partial}{\\partial x}\\sin(xy)e^x $$\n",
      "$$ \\frac{\\partial^2}{\\partial x\\partial y}\\sin(xy)e^x $$\n"
     ]
    },
    {
     "cell_type": "code",
     "collapsed": false,
     "input": [],
     "language": "python",
     "metadata": {},
     "outputs": []
    },
    {
     "cell_type": "code",
     "collapsed": false,
     "input": [],
     "language": "python",
     "metadata": {},
     "outputs": []
    },
    {
     "cell_type": "code",
     "collapsed": false,
     "input": [],
     "language": "python",
     "metadata": {},
     "outputs": []
    },
    {
     "cell_type": "markdown",
     "metadata": {},
     "source": [
      "Recall l'Hopital's rule, which states that if $$\\lim_{x\\to x_0}\\frac{f(x)}{g(x)}$$ is $\\frac{0}{0}$, $\\frac{\\infty}{\\infty}$, or $-\\frac{\\infty}{\\infty}$, then it is equal to $$\\lim_{x\\to x_0} \\frac{f'(x)}{g'(x)}$$ (we will not consider other indeterminate forms here).  \n",
      "\n",
      "Write a function that computes $\\lim_{x\\to x_0}\\frac{f(x)}{g(x)}$. Use the `fraction` function to get the numerator and denominator of an expression, for example"
     ]
    },
    {
     "cell_type": "code",
     "collapsed": false,
     "input": [
      "fraction(x/y)"
     ],
     "language": "python",
     "metadata": {},
     "outputs": [
      {
       "output_type": "pyout",
       "prompt_number": 3,
       "text": [
        "(x, y)"
       ]
      }
     ],
     "prompt_number": 3
    },
    {
     "cell_type": "markdown",
     "metadata": {},
     "source": [
      "You may assume that the only indeterminate forms are the ones mentioned above, and that l'Hopital's rule will terminate after a finite number of steps. Do not use `limit` (use `subs`). Remember that after taking the derivatives, you will need to put the expression into the form $\\frac{f(x)}{g(x)}$ before applying l'Hopital's rule again (what function did we learn that does this?)."
     ]
    },
    {
     "cell_type": "code",
     "collapsed": false,
     "input": [
      "@test\n",
      "def lhopital(expr, x, x0):\n",
      "    \"\"\"\n",
      "    Computes limit(expr, x, x0) using l'Hopital's rule.\n",
      "\n",
      "    >>> lhopital(sin(x)/x, x, 0)\n",
      "    1\n",
      "    >>> lhopital(exp(x)/x**2, x, oo)\n",
      "    oo\n",
      "    >>> lhopital((x**2 - 2*x + 4)/(2 - x), x, 2)\n",
      "    -oo\n",
      "    >>> lhopital(x/(2 - x), x, 2)\n",
      "    -oo\n",
      "    >>> lhopital(cos(x), x, 0)\n",
      "    1\n",
      "    >>> lhopital((x + sin(x))/x, x, 0)\n",
      "    2\n",
      "    \"\"\"\n"
     ],
     "language": "python",
     "metadata": {},
     "outputs": []
    },
    {
     "cell_type": "heading",
     "level": 2,
     "metadata": {},
     "source": [
      "Integrals"
     ]
    },
    {
     "cell_type": "markdown",
     "metadata": {},
     "source": [
      "Recall that the mean value of a function on an interval $[a, b]$ can be computed by the formula\n",
      "\n",
      "$$\\frac{1}{b - a}\\int_{a}^{b} f{\\left (x \\right )} dx. % Why doesn't \\, work? $$\n",
      "\n",
      "Write a function that computes the mean value of an expression on a given interval."
     ]
    },
    {
     "cell_type": "code",
     "collapsed": false,
     "input": [
      "@test\n",
      "def average_value(expr, x, a, b):\n",
      "    \"\"\"\n",
      "    Computes the average value of expr with respect to x on [a, b].\n",
      "\n",
      "    >>> average_value(sin(x), x, 0, pi)\n",
      "    2/pi\n",
      "    >>> average_value(x, x, 2, 4)\n",
      "    3\n",
      "    >>> average_value(x*y, x, 2, 4)\n",
      "    3*y\n",
      "    \"\"\"\n"
     ],
     "language": "python",
     "metadata": {},
     "outputs": []
    },
    {
     "cell_type": "markdown",
     "metadata": {},
     "source": [
      "Write a function that takes a list of expressions and produces an \"integral table\", like\n",
      "\n",
      "1. $$\\int \\sin(x)dx = -\\cos(x) + C$$\n",
      "2. $$\\int \\cos(x)dx = \\sin(x) + C$$\n",
      "3. $$\\int e^xdx = e^x + C$$\n",
      "4. $$\\int \\log(x)dx = x(\\log(x) - 1) + C$$"
     ]
    },
    {
     "cell_type": "code",
     "collapsed": false,
     "input": [
      "@test\n",
      "def int_table(exprs, x):\n",
      "    \"\"\"\n",
      "    Produces a nice integral table of the integrals of exprs\n",
      "\n",
      "    (note, we have to use pprint(use_unicode=False) because unicode is not supported\n",
      "    by the IPython doctester)\n",
      "\n",
      "    >>> int_table([sin(x), cos(x), exp(x), log(x)], x)\n",
      "      /                      \n",
      "     |                       \n",
      "     | sin(x) dx = C - cos(x)\n",
      "     |                       \n",
      "    /                        \n",
      "      /                      \n",
      "     |                       \n",
      "     | cos(x) dx = C + sin(x)\n",
      "     |                       \n",
      "    /                        \n",
      "      /              \n",
      "     |               \n",
      "     |  x           x\n",
      "     | e  dx = C + e \n",
      "     |               \n",
      "    /                \n",
      "      /                            \n",
      "     |                             \n",
      "     | log(x) dx = C + x*log(x) - x\n",
      "     |                             \n",
      "    /                              \n",
      "    \"\"\"\n"
     ],
     "language": "python",
     "metadata": {},
     "outputs": []
    },
    {
     "cell_type": "markdown",
     "metadata": {},
     "source": [
      "Now use your function to compute the integrals in this Mathematica ad.  Remember that the inverse trig functions are spelled like `asin` in SymPy. \n",
      "\n",
      "The ad below probably has a typo, because one of the integrals is trivial to compute. Include what you think the integral should be, and see if SymPy can compute that as well."
     ]
    },
    {
     "cell_type": "code",
     "collapsed": false,
     "input": [
      "from IPython.core.display import Image \n",
      "Image(filename='../imgs/Mathematica-ring-a.png') "
     ],
     "language": "python",
     "metadata": {},
     "outputs": [
      {
       "output_type": "pyout",
       "png": "[encoded data removed]",
       "prompt_number": 4,
       "text": [
        "<IPython.core.display.Image at 0x1023b7f50>"
       ]
      }
     ],
     "prompt_number": 4
    },
    {
     "cell_type": "code",
     "collapsed": false,
     "input": [
      "# Write the answer here\n"
     ],
     "language": "python",
     "metadata": {},
     "outputs": []
    },
    {
     "cell_type": "heading",
     "level": 2,
     "metadata": {},
     "source": [
      "Limits"
     ]
    },
    {
     "cell_type": "markdown",
     "metadata": {},
     "source": [
      "Recall that the definition of the derivative of $f(x)$ at $x=x_0$ is $$f'(x_0) = \\lim_{x\\to x_0}\\frac{f(x) - f(x_0)}{x - x_0}.$$  Write a function that computes the derivative using the limit definition, using `limit`."
     ]
    },
    {
     "cell_type": "code",
     "collapsed": false,
     "input": [
      "@test\n",
      "def lim_deriv(expr, x, x0):\n",
      "    \"\"\"\n",
      "    Computes the derivative of expr with respect to x at x0 using the limit definition.\n",
      "\n",
      "    >>> lim_deriv(x**2, x, 0)\n",
      "    0\n",
      "    >>> lim_deriv(cos(x*y), x, pi)\n",
      "    -y*sin(pi*y)\n",
      "    \n",
      "    Note that we must use this trick to take the derivative without evaluating at a point.\n",
      "    >>> lim_deriv(exp(x**2), x, y).subs(y, x)\n",
      "    2*x*exp(x**2)\n",
      "    \"\"\"\n"
     ],
     "language": "python",
     "metadata": {},
     "outputs": []
    },
    {
     "cell_type": "markdown",
     "metadata": {},
     "source": [
      "The function you wrote above to compute limits using l'Hopital's rule is very fragile. And even if you try to make it sophisticated, it will still be unable to compute many limits.  Try it on the following limits, and see what happens. Then try computing the same limits with `limit`. \n",
      "\n",
      "1. $$\\lim_{x\\to 0}\\frac{\\log(x)}{x}$$\n",
      "2. $$\\lim_{x\\to \\infty}\\frac{2^x}{3^x} \\textbf{Warning: Be sure to save the notebook before you test this one, and be prepared to kill the kernel!}$$\n",
      "3. $$\\lim_{x\\to \\infty}x\\sin{\\left(\\frac{1}{x}\\right)}$$\n",
      "4. $$\\lim_{x\\to 1}\\arctan\\left(\\frac{1}{1 - x}\\right)\\; \\text{Remember that $\\arctan$ is called }\\mathtt{atan}\\text{ in SymPy}$$"
     ]
    },
    {
     "cell_type": "code",
     "collapsed": false,
     "input": [],
     "language": "python",
     "metadata": {},
     "outputs": []
    },
    {
     "cell_type": "code",
     "collapsed": false,
     "input": [],
     "language": "python",
     "metadata": {},
     "outputs": []
    },
    {
     "cell_type": "code",
     "collapsed": false,
     "input": [],
     "language": "python",
     "metadata": {},
     "outputs": []
    },
    {
     "cell_type": "code",
     "collapsed": false,
     "input": [],
     "language": "python",
     "metadata": {},
     "outputs": []
    },
    {
     "cell_type": "code",
     "collapsed": false,
     "input": [],
     "language": "python",
     "metadata": {},
     "outputs": []
    },
    {
     "cell_type": "code",
     "collapsed": false,
     "input": [],
     "language": "python",
     "metadata": {},
     "outputs": []
    },
    {
     "cell_type": "code",
     "collapsed": false,
     "input": [],
     "language": "python",
     "metadata": {},
     "outputs": []
    },
    {
     "cell_type": "code",
     "collapsed": false,
     "input": [],
     "language": "python",
     "metadata": {},
     "outputs": []
    },
    {
     "cell_type": "code",
     "collapsed": false,
     "input": [],
     "language": "python",
     "metadata": {},
     "outputs": []
    },
    {
     "cell_type": "code",
     "collapsed": false,
     "input": [],
     "language": "python",
     "metadata": {},
     "outputs": []
    },
    {
     "cell_type": "heading",
     "level": 2,
     "metadata": {},
     "source": [
      "Series"
     ]
    },
    {
     "cell_type": "markdown",
     "metadata": {},
     "source": [
      "The Fibonicci sequence is rexcursively defined by \n",
      "\n",
      "$$F_0 = 0,$$\n",
      "$$F_1 = 1,$$\n",
      "$$F_n = F_{n - 1} + F_{n - 2}.$$\n",
      "\n",
      "The first few vales are 0, 1, 1, 2, 3, 5, 8, 13, 21, \u2026\n",
      "\n",
      "The Fibonicci sequence has a generating function given by $$s(x) = \\frac{x}{1 - x - x^2}$$ (see http://en.wikipedia.org/wiki/Fibonacci_number#Power_series for a derivation). What this means is that if we expand $s(x)$ as a power series, the coefficients are the Fibonicci numbers, $$s(x) = \\sum_{n=0}^\\infty F_nx^n$$"
     ]
    },
    {
     "cell_type": "markdown",
     "metadata": {},
     "source": [
      "Write a function that uses series to compute the nth Fibonicci number. \n",
      "\n",
      "Hint: `expr.coeff(x, n)` will give the coefficient of $x^n$ in an expression. For example"
     ]
    },
    {
     "cell_type": "code",
     "collapsed": false,
     "input": [
      "(1 + 2*x - x**2).coeff(x, 0)"
     ],
     "language": "python",
     "metadata": {},
     "outputs": [
      {
       "output_type": "pyout",
       "prompt_number": 7,
       "text": [
        "1"
       ]
      }
     ],
     "prompt_number": 7
    },
    {
     "cell_type": "code",
     "collapsed": false,
     "input": [
      "(1 + 2*x - x**2).coeff(x, 1)"
     ],
     "language": "python",
     "metadata": {},
     "outputs": [
      {
       "output_type": "pyout",
       "prompt_number": 8,
       "text": [
        "2"
       ]
      }
     ],
     "prompt_number": 8
    },
    {
     "cell_type": "code",
     "collapsed": false,
     "input": [
      "(1 + 2*x - x**2).coeff(x, 2)"
     ],
     "language": "python",
     "metadata": {},
     "outputs": [
      {
       "output_type": "pyout",
       "prompt_number": 9,
       "text": [
        "-1"
       ]
      }
     ],
     "prompt_number": 9
    },
    {
     "cell_type": "code",
     "collapsed": false,
     "input": [
      "@test\n",
      "def fib(n):\n",
      "    \"\"\"\n",
      "    Uses series expansion and a generating function to compute the nth Fibonnicci number.\n",
      "\n",
      "    >>> fib(0)\n",
      "    0\n",
      "    >>> fib(4)\n",
      "    3\n",
      "    >>> fib(9)\n",
      "    34\n",
      "    \"\"\"\n"
     ],
     "language": "python",
     "metadata": {},
     "outputs": []
    },
    {
     "cell_type": "markdown",
     "metadata": {},
     "source": [
      "Note: if you really want to compute Fibonicci numbers, there is a function in SymPy called `fibonicci` that can do this far more efficiently."
     ]
    },
    {
     "cell_type": "code",
     "collapsed": false,
     "input": [
      "[fibonacci(i) for i in range(10)]"
     ],
     "language": "python",
     "metadata": {},
     "outputs": [
      {
       "output_type": "pyout",
       "prompt_number": 5,
       "text": [
        "[0, 1, 1, 2, 3, 5, 8, 13, 21, 34]"
       ]
      }
     ],
     "prompt_number": 5
    },
    {
     "cell_type": "markdown",
     "metadata": {},
     "source": [
      "`series` is nice if you want a fixed power series, but what if you don't know ahead of time how many terms you want? For that, there is the `lseries` method, which returns a generator of series terms.  This is more efficient than recomputing the whole series again if you determine you need more terms. Here is an example usage (**Warning**: since series are in general infinite, `lseries` will return an infinite generator. Here we use `zip` to limit the number of terms)."
     ]
    },
    {
     "cell_type": "code",
     "collapsed": false,
     "input": [
      "for term, _ in zip(cos(x).lseries(x, 0), range(10)):\n",
      "    print term"
     ],
     "language": "python",
     "metadata": {},
     "outputs": [
      {
       "output_type": "stream",
       "stream": "stdout",
       "text": [
        "1\n",
        "-x**2/2\n",
        "x**4/24\n",
        "-x**6/720\n",
        "x**8/40320\n",
        "-x**10/3628800\n",
        "x**12/479001600\n",
        "-x**14/87178291200\n",
        "x**16/20922789888000\n",
        "-x**18/6402373705728000\n"
       ]
      }
     ],
     "prompt_number": 6
    },
    {
     "cell_type": "markdown",
     "metadata": {},
     "source": [
      "Write a function that computes the number of terms of a series expansion of a given function are needed to compute the given value near the given point within the given accuracy. For example, in the expansion of cos(x) near $\\pi$, suppode we wish to compute $\\pi + 1$. Let us see if terms up to $O(x^6)$ are sufficient (remember that due to a limitation in SymPy, when computing the series away from 0 with `series`, we have to use a shift)"
     ]
    },
    {
     "cell_type": "code",
     "collapsed": false,
     "input": [
      "a = cos(x).series(x, pi, 5).removeO().subs(x, x - pi).evalf(subs={x: pi + 1})\n",
      "a"
     ],
     "language": "python",
     "metadata": {},
     "outputs": [
      {
       "output_type": "pyout",
       "prompt_number": 10,
       "text": [
        "-0.541666666666667"
       ]
      }
     ],
     "prompt_number": 10
    },
    {
     "cell_type": "code",
     "collapsed": false,
     "input": [
      "b = cos(pi + 1).evalf()\n",
      "b"
     ],
     "language": "python",
     "metadata": {},
     "outputs": [
      {
       "output_type": "pyout",
       "prompt_number": 11,
       "text": [
        "-0.540302305868140"
       ]
      }
     ],
     "prompt_number": 11
    },
    {
     "cell_type": "markdown",
     "metadata": {},
     "source": [
      "So the expansion is accurate up to two places after the decimal point, i.e., within `0.01`. "
     ]
    },
    {
     "cell_type": "code",
     "collapsed": false,
     "input": [
      "abs(a - b) < 0.01"
     ],
     "language": "python",
     "metadata": {},
     "outputs": [
      {
       "output_type": "pyout",
       "prompt_number": 12,
       "text": [
        "True"
       ]
      }
     ],
     "prompt_number": 12
    },
    {
     "cell_type": "markdown",
     "metadata": {},
     "source": [
      "Note, with `lseries`, we do not need to worry about shifts"
     ]
    },
    {
     "cell_type": "code",
     "collapsed": false,
     "input": [
      "for term, _ in zip(cos(x).lseries(x, pi), range(10)):\n",
      "    print term"
     ],
     "language": "python",
     "metadata": {},
     "outputs": [
      {
       "output_type": "stream",
       "stream": "stdout",
       "text": [
        "-1\n",
        "(x - pi)**2/2\n",
        "-(x - pi)**4/24\n",
        "(x - pi)**6/720\n",
        "-(x - pi)**8/40320\n",
        "(x - pi)**10/3628800\n",
        "-(x - pi)**12/479001600\n",
        "(x - pi)**14/87178291200\n",
        "-(x - pi)**16/20922789888000\n",
        "(x - pi)**18/6402373705728000\n"
       ]
      }
     ],
     "prompt_number": 13
    },
    {
     "cell_type": "markdown",
     "metadata": {},
     "source": [
      "Hint: to get the exponent from a term like `3*(x - 1)**5`, use `as_coeff_exponent`. "
     ]
    },
    {
     "cell_type": "code",
     "collapsed": false,
     "input": [
      "(3*(x - 1)**5).as_coeff_exponent(x - 1)"
     ],
     "language": "python",
     "metadata": {},
     "outputs": [
      {
       "output_type": "pyout",
       "prompt_number": 14,
       "text": [
        "(3, 5)"
       ]
      }
     ],
     "prompt_number": 14
    },
    {
     "cell_type": "code",
     "collapsed": false,
     "input": [
      "@test\n",
      "def series_accuracy(func, expansion_point, evaluation_point, accuracy, x):\n",
      "    \"\"\"\n",
      "    Returns n such that series terms up to and including (x - expansion_point)**n \n",
      "    (i.e., O((x - expansion_point)**(n + 1)) are needed to compute func at \n",
      "    evaluation_point within the given accuracy.\n",
      "\n",
      "    >>> series_accuracy(cos(x), pi, pi + 1, 0.01, x)\n",
      "    4\n",
      "    >>> series_accuracy(exp(x), 1, 10, 1, x)\n",
      "    23\n",
      "    \"\"\"\n"
     ],
     "language": "python",
     "metadata": {},
     "outputs": []
    }
   ],
   "metadata": {}
  }
 ]
}