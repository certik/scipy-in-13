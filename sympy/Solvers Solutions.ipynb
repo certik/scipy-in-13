{
 "metadata": {
  "name": "Solvers Solutions"
 },
 "nbformat": 3,
 "nbformat_minor": 0,
 "worksheets": [
  {
   "cells": [
    {
     "cell_type": "heading",
     "level": 1,
     "metadata": {},
     "source": [
      "Solvers"
     ]
    },
    {
     "cell_type": "markdown",
     "metadata": {},
     "source": [
      "Boilerplate to make the doctester work. "
     ]
    },
    {
     "cell_type": "code",
     "collapsed": false,
     "input": [
      "import sys\n",
      "import os\n",
      "sys.path.insert(1, os.path.join(os.path.pardir, \"ipython_doctester\"))\n",
      "from sympy import *\n",
      "from ipython_doctester import test\n",
      "# Work around a bug in IPython. This will disable the ability to paste things with >>>\n",
      "def notransform(line): return line\n",
      "from IPython.core import inputsplitter\n",
      "inputsplitter.transform_classic_prompt = notransform\n",
      "init_printing()"
     ],
     "language": "python",
     "metadata": {},
     "outputs": [],
     "prompt_number": 2
    },
    {
     "cell_type": "markdown",
     "metadata": {},
     "source": [
      "For each exercise, fill in the function according to its docstring. Execute the cell to see if you did it right. "
     ]
    },
    {
     "cell_type": "code",
     "collapsed": false,
     "input": [
      "a, b, c, d, x, y, z, t = symbols('a b c d x y z t')\n",
      "f, g, h = symbols('f g h', cls=Function)"
     ],
     "language": "python",
     "metadata": {},
     "outputs": [],
     "prompt_number": 3
    },
    {
     "cell_type": "heading",
     "level": 2,
     "metadata": {},
     "source": [
      "Algebraic Equations"
     ]
    },
    {
     "cell_type": "markdown",
     "metadata": {},
     "source": [
      "Write a function that computes the [quadratic equation](http://en.wikipedia.org/wiki/Quadratic_equation)."
     ]
    },
    {
     "cell_type": "code",
     "collapsed": false,
     "input": [
      "def quadratic():\n",
      "    return solve(a*x**2 + b*x + c, x)\n",
      "quadratic()"
     ],
     "language": "python",
     "metadata": {},
     "outputs": [
      {
       "latex": [
        "$$\\begin{bmatrix}\\frac{- b + \\sqrt{- 4 a c + b^{2}}}{2 a}, & - \\frac{b + \\sqrt{- 4 a c + b^{2}}}{2 a}\\end{bmatrix}$$"
       ],
       "output_type": "pyout",
       "prompt_number": 5,
       "text": [
        "\u23a1        _____________   \u239b       _____________\u239e\u23a4\n",
        "\u23a2       \u2571           2    \u239c      \u2571           2 \u239f\u23a5\n",
        "\u23a2-b + \u2572\u2571  -4\u22c5a\u22c5c + b    -\u239db + \u2572\u2571  -4\u22c5a\u22c5c + b  \u23a0\u23a5\n",
        "\u23a2\u2500\u2500\u2500\u2500\u2500\u2500\u2500\u2500\u2500\u2500\u2500\u2500\u2500\u2500\u2500\u2500\u2500\u2500\u2500\u2500\u2500, \u2500\u2500\u2500\u2500\u2500\u2500\u2500\u2500\u2500\u2500\u2500\u2500\u2500\u2500\u2500\u2500\u2500\u2500\u2500\u2500\u2500\u2500\u2500\u23a5\n",
        "\u23a3         2\u22c5a                     2\u22c5a          \u23a6"
       ]
      }
     ],
     "prompt_number": 5
    },
    {
     "cell_type": "markdown",
     "metadata": {},
     "source": [
      "Write a function that computes the general solution to the cubic $x^3 + ax^2 + bx + c$."
     ]
    },
    {
     "cell_type": "code",
     "collapsed": false,
     "input": [
      "def cubic():\n",
      "    return solve(x**3 + a*x**2 + b*x + c, x)\n",
      "cubic()"
     ],
     "language": "python",
     "metadata": {},
     "outputs": [
      {
       "latex": [
        "$$\\begin{bmatrix}- \\frac{1}{3} a + \\frac{- \\frac{1}{9} a^{2} + \\frac{1}{3} b}{\\sqrt[3]{\\frac{1}{27} a^{3} - \\frac{1}{6} a b + \\frac{1}{2} c + \\sqrt{\\left(- \\frac{1}{9} a^{2} + \\frac{1}{3} b\\right)^{3} + \\frac{1}{4} \\left(\\frac{2}{27} a^{3} - \\frac{1}{3} a b + c\\right)^{2}}}} - \\sqrt[3]{\\frac{1}{27} a^{3} - \\frac{1}{6} a b + \\frac{1}{2} c + \\sqrt{\\left(- \\frac{1}{9} a^{2} + \\frac{1}{3} b\\right)^{3} + \\frac{1}{4} \\left(\\frac{2}{27} a^{3} - \\frac{1}{3} a b + c\\right)^{2}}}, & - \\frac{1}{3} a + \\frac{- \\frac{1}{9} a^{2} + \\frac{1}{3} b}{\\left(- \\frac{1}{2} - \\frac{1}{2} \\sqrt{3} \\mathbf{\\imath}\\right) \\sqrt[3]{\\frac{1}{27} a^{3} - \\frac{1}{6} a b + \\frac{1}{2} c + \\sqrt{\\left(- \\frac{1}{9} a^{2} + \\frac{1}{3} b\\right)^{3} + \\frac{1}{4} \\left(\\frac{2}{27} a^{3} - \\frac{1}{3} a b + c\\right)^{2}}}} - \\left(- \\frac{1}{2} - \\frac{1}{2} \\sqrt{3} \\mathbf{\\imath}\\right) \\sqrt[3]{\\frac{1}{27} a^{3} - \\frac{1}{6} a b + \\frac{1}{2} c + \\sqrt{\\left(- \\frac{1}{9} a^{2} + \\frac{1}{3} b\\right)^{3} + \\frac{1}{4} \\left(\\frac{2}{27} a^{3} - \\frac{1}{3} a b + c\\right)^{2}}}, & - \\frac{1}{3} a + \\frac{- \\frac{1}{9} a^{2} + \\frac{1}{3} b}{\\left(- \\frac{1}{2} + \\frac{1}{2} \\sqrt{3} \\mathbf{\\imath}\\right) \\sqrt[3]{\\frac{1}{27} a^{3} - \\frac{1}{6} a b + \\frac{1}{2} c + \\sqrt{\\left(- \\frac{1}{9} a^{2} + \\frac{1}{3} b\\right)^{3} + \\frac{1}{4} \\left(\\frac{2}{27} a^{3} - \\frac{1}{3} a b + c\\right)^{2}}}} - \\left(- \\frac{1}{2} + \\frac{1}{2} \\sqrt{3} \\mathbf{\\imath}\\right) \\sqrt[3]{\\frac{1}{27} a^{3} - \\frac{1}{6} a b + \\frac{1}{2} c + \\sqrt{\\left(- \\frac{1}{9} a^{2} + \\frac{1}{3} b\\right)^{3} + \\frac{1}{4} \\left(\\frac{2}{27} a^{3} - \\frac{1}{3} a b + c\\right)^{2}}}\\end{bmatrix}$$"
       ],
       "output_type": "pyout",
       "prompt_number": 6,
       "text": [
        "\u23a1                                                                             \n",
        "\u23a2                                                                             \n",
        "\u23a2                                                                             \n",
        "\u23a2                                       2                                     \n",
        "\u23a2                                      a    b                                 \n",
        "\u23a2                                    - \u2500\u2500 + \u2500                                 \n",
        "\u23a2  a                                   9    3                                 \n",
        "\u23a2- \u2500 + \u2500\u2500\u2500\u2500\u2500\u2500\u2500\u2500\u2500\u2500\u2500\u2500\u2500\u2500\u2500\u2500\u2500\u2500\u2500\u2500\u2500\u2500\u2500\u2500\u2500\u2500\u2500\u2500\u2500\u2500\u2500\u2500\u2500\u2500\u2500\u2500\u2500\u2500\u2500\u2500\u2500\u2500\u2500\u2500\u2500\u2500\u2500\u2500\u2500\u2500\u2500\u2500\u2500\u2500\u2500\u2500\u2500\u2500\u2500\u2500\u2500\u2500\u2500\u2500\u2500\u2500\u2500 - 3\n",
        "\u23a2  3            __________________________________________________________   \u2572\n",
        "\u23a2              \u2571                        _________________________________     \n",
        "\u23a2             \u2571                        \u2571                               2      \n",
        "\u23a2            \u2571                        \u2571                \u239b   3          \u239e       \n",
        "\u23a2           \u2571                        \u2571             3   \u239c2\u22c5a    a\u22c5b    \u239f       \n",
        "\u23a2          \u2571      3                 \u2571    \u239b   2    \u239e    \u239c\u2500\u2500\u2500\u2500 - \u2500\u2500\u2500 + c\u239f       \n",
        "\u23a2         \u2571      a    a\u22c5b   c      \u2571     \u239c  a    b\u239f    \u239d 27     3     \u23a0       \n",
        "\u23a2      3 \u2571       \u2500\u2500 - \u2500\u2500\u2500 + \u2500 +   \u2571      \u239c- \u2500\u2500 + \u2500\u239f  + \u2500\u2500\u2500\u2500\u2500\u2500\u2500\u2500\u2500\u2500\u2500\u2500\u2500\u2500\u2500\u2500\u2500      \n",
        "\u23a3      \u2572\u2571        27    6    2   \u2572\u2571       \u239d  9    3\u23a0            4              \n",
        "\n",
        "        __________________________________________________________            \n",
        "       \u2571                        _________________________________             \n",
        "      \u2571                        \u2571                               2              \n",
        "     \u2571                        \u2571                \u239b   3          \u239e               \n",
        "    \u2571                        \u2571             3   \u239c2\u22c5a    a\u22c5b    \u239f               \n",
        "   \u2571      3                 \u2571    \u239b   2    \u239e    \u239c\u2500\u2500\u2500\u2500 - \u2500\u2500\u2500 + c\u239f               \n",
        "  \u2571      a    a\u22c5b   c      \u2571     \u239c  a    b\u239f    \u239d 27     3     \u23a0       a       \n",
        " \u2571       \u2500\u2500 - \u2500\u2500\u2500 + \u2500 +   \u2571      \u239c- \u2500\u2500 + \u2500\u239f  + \u2500\u2500\u2500\u2500\u2500\u2500\u2500\u2500\u2500\u2500\u2500\u2500\u2500\u2500\u2500\u2500\u2500  , - \u2500 + \u2500\u2500\u2500\u2500\n",
        "\u2571        27    6    2   \u2572\u2571       \u239d  9    3\u23a0            4              3       \n",
        "                                                                              \n",
        "                                                                              \n",
        "                                                                              \n",
        "                                                                              \n",
        "                                                                          \u239b   \n",
        "                                                                          \u239c  1\n",
        "                                                                          \u239c- \u2500\n",
        "                                                                          \u239d  2\n",
        "\n",
        "                                                                              \n",
        "                                                                              \n",
        "                                                                              \n",
        "                                     2                                        \n",
        "                                    a    b                                    \n",
        "                                  - \u2500\u2500 + \u2500                                    \n",
        "                                    9    3                                    \n",
        "\u2500\u2500\u2500\u2500\u2500\u2500\u2500\u2500\u2500\u2500\u2500\u2500\u2500\u2500\u2500\u2500\u2500\u2500\u2500\u2500\u2500\u2500\u2500\u2500\u2500\u2500\u2500\u2500\u2500\u2500\u2500\u2500\u2500\u2500\u2500\u2500\u2500\u2500\u2500\u2500\u2500\u2500\u2500\u2500\u2500\u2500\u2500\u2500\u2500\u2500\u2500\u2500\u2500\u2500\u2500\u2500\u2500\u2500\u2500\u2500\u2500\u2500\u2500\u2500\u2500\u2500\u2500\u2500\u2500\u2500\u2500\u2500\u2500\u2500\u2500\u2500\u2500\u2500\n",
        "                     _________________________________________________________\n",
        "                    \u2571                        _________________________________\n",
        "                   \u2571                        \u2571                               2 \n",
        "                  \u2571                        \u2571                \u239b   3          \u239e  \n",
        "                 \u2571                        \u2571             3   \u239c2\u22c5a    a\u22c5b    \u239f  \n",
        "     ___  \u239e     \u2571      3                 \u2571    \u239b   2    \u239e    \u239c\u2500\u2500\u2500\u2500 - \u2500\u2500\u2500 + c\u239f  \n",
        "   \u2572\u2571 3 \u22c5\u2148\u239f    \u2571      a    a\u22c5b   c      \u2571     \u239c  a    b\u239f    \u239d 27     3     \u23a0  \n",
        " - \u2500\u2500\u2500\u2500\u2500\u2500\u2500\u239f\u22c53 \u2571       \u2500\u2500 - \u2500\u2500\u2500 + \u2500 +   \u2571      \u239c- \u2500\u2500 + \u2500\u239f  + \u2500\u2500\u2500\u2500\u2500\u2500\u2500\u2500\u2500\u2500\u2500\u2500\u2500\u2500\u2500\u2500\u2500 \n",
        "      2   \u23a0 \u2572\u2571        27    6    2   \u2572\u2571       \u239d  9    3\u23a0            4         \n",
        "\n",
        "                             _________________________________________________\n",
        "                            \u2571                        _________________________\n",
        "                           \u2571                        \u2571                         \n",
        "                          \u2571                        \u2571                \u239b   3     \n",
        "                         \u2571                        \u2571             3   \u239c2\u22c5a    a\u22c5\n",
        "    \u239b        ___  \u239e     \u2571      3                 \u2571    \u239b   2    \u239e    \u239c\u2500\u2500\u2500\u2500 - \u2500\u2500\n",
        "    \u239c  1   \u2572\u2571 3 \u22c5\u2148\u239f    \u2571      a    a\u22c5b   c      \u2571     \u239c  a    b\u239f    \u239d 27     3\n",
        "\u2500 - \u239c- \u2500 - \u2500\u2500\u2500\u2500\u2500\u2500\u2500\u239f\u22c53 \u2571       \u2500\u2500 - \u2500\u2500\u2500 + \u2500 +   \u2571      \u239c- \u2500\u2500 + \u2500\u239f  + \u2500\u2500\u2500\u2500\u2500\u2500\u2500\u2500\u2500\u2500\n",
        "_   \u239d  2      2   \u23a0 \u2572\u2571        27    6    2   \u2572\u2571       \u239d  9    3\u23a0            4 \n",
        "                                                                              \n",
        "                                                                              \n",
        "                                                                              \n",
        "                                                                              \n",
        "                                                                              \n",
        "                                                                              \n",
        "                                                                              \n",
        "                                                                              \n",
        "\n",
        "_________                                                                     \n",
        "________                                                                      \n",
        "      2                                                                       \n",
        "     \u239e                                                    2                   \n",
        "b    \u239f                                                   a    b               \n",
        "\u2500 + c\u239f                                                 - \u2500\u2500 + \u2500               \n",
        "     \u23a0       a                                           9    3               \n",
        "\u2500\u2500\u2500\u2500\u2500\u2500\u2500  , - \u2500 + \u2500\u2500\u2500\u2500\u2500\u2500\u2500\u2500\u2500\u2500\u2500\u2500\u2500\u2500\u2500\u2500\u2500\u2500\u2500\u2500\u2500\u2500\u2500\u2500\u2500\u2500\u2500\u2500\u2500\u2500\u2500\u2500\u2500\u2500\u2500\u2500\u2500\u2500\u2500\u2500\u2500\u2500\u2500\u2500\u2500\u2500\u2500\u2500\u2500\u2500\u2500\u2500\u2500\u2500\u2500\u2500\u2500\u2500\u2500\u2500\u2500\n",
        "             3                            ____________________________________\n",
        "                                         \u2571                        ____________\n",
        "                                        \u2571                        \u2571            \n",
        "                                       \u2571                        \u2571             \n",
        "                                      \u2571                        \u2571             3\n",
        "                 \u239b        ___  \u239e     \u2571      3                 \u2571    \u239b   2    \u239e \n",
        "                 \u239c  1   \u2572\u2571 3 \u22c5\u2148\u239f    \u2571      a    a\u22c5b   c      \u2571     \u239c  a    b\u239f \n",
        "                 \u239c- \u2500 + \u2500\u2500\u2500\u2500\u2500\u2500\u2500\u239f\u22c53 \u2571       \u2500\u2500 - \u2500\u2500\u2500 + \u2500 +   \u2571      \u239c- \u2500\u2500 + \u2500\u239f \n",
        "                 \u239d  2      2   \u23a0 \u2572\u2571        27    6    2   \u2572\u2571       \u239d  9    3\u23a0 \n",
        "\n",
        "                                                  ____________________________\n",
        "                                                 \u2571                        ____\n",
        "                                                \u2571                        \u2571    \n",
        "                                               \u2571                        \u2571     \n",
        "                                              \u2571                        \u2571      \n",
        "                         \u239b        ___  \u239e     \u2571      3                 \u2571    \u239b  \n",
        "                         \u239c  1   \u2572\u2571 3 \u22c5\u2148\u239f    \u2571      a    a\u22c5b   c      \u2571     \u239c  \n",
        "\u2500\u2500\u2500\u2500\u2500\u2500\u2500\u2500\u2500\u2500\u2500\u2500\u2500\u2500\u2500\u2500\u2500\u2500\u2500\u2500\u2500\u2500 - \u239c- \u2500 + \u2500\u2500\u2500\u2500\u2500\u2500\u2500\u239f\u22c53 \u2571       \u2500\u2500 - \u2500\u2500\u2500 + \u2500 +   \u2571      \u239c- \n",
        "______________________   \u239d  2      2   \u23a0 \u2572\u2571        27    6    2   \u2572\u2571       \u239d  \n",
        "_____________________                                                         \n",
        "                   2                                                          \n",
        "   \u239b   3          \u239e                                                           \n",
        "   \u239c2\u22c5a    a\u22c5b    \u239f                                                           \n",
        "   \u239c\u2500\u2500\u2500\u2500 - \u2500\u2500\u2500 + c\u239f                                                           \n",
        "   \u239d 27     3     \u23a0                                                           \n",
        " + \u2500\u2500\u2500\u2500\u2500\u2500\u2500\u2500\u2500\u2500\u2500\u2500\u2500\u2500\u2500\u2500\u2500                                                          \n",
        "           4                                                                  \n",
        "\n",
        "______________________________\u23a4\n",
        "_____________________________ \u23a5\n",
        "                           2  \u23a5\n",
        "           \u239b   3          \u239e   \u23a5\n",
        "       3   \u239c2\u22c5a    a\u22c5b    \u239f   \u23a5\n",
        " 2    \u239e    \u239c\u2500\u2500\u2500\u2500 - \u2500\u2500\u2500 + c\u239f   \u23a5\n",
        "a    b\u239f    \u239d 27     3     \u23a0   \u23a5\n",
        "\u2500\u2500 + \u2500\u239f  + \u2500\u2500\u2500\u2500\u2500\u2500\u2500\u2500\u2500\u2500\u2500\u2500\u2500\u2500\u2500\u2500\u2500  \u23a5\n",
        "9    3\u23a0            4          \u23a5\n",
        "                              \u23a5\n",
        "                              \u23a5\n",
        "                              \u23a5\n",
        "                              \u23a5\n",
        "                              \u23a5\n",
        "                              \u23a5\n",
        "                              \u23a5\n",
        "                              \u23a6"
       ]
      }
     ],
     "prompt_number": 6
    },
    {
     "cell_type": "heading",
     "level": 2,
     "metadata": {},
     "source": [
      "Differential Equations"
     ]
    },
    {
     "cell_type": "markdown",
     "metadata": {},
     "source": [
      "A population that grows without bound is modeled by the differential equation\n",
      "\n",
      "$$f'(t)=af(t)$$\n",
      "\n",
      "Solve this differential equation using SymPy."
     ]
    },
    {
     "cell_type": "code",
     "collapsed": false,
     "input": [
      "dsolve(f(t).diff(t) - a*f(t), f(t))"
     ],
     "language": "python",
     "metadata": {},
     "outputs": [
      {
       "latex": [
        "$$\\operatorname{f}{\\left (t \\right )} = C_{1} e^{a t}$$"
       ],
       "output_type": "pyout",
       "png": "[encoded data removed]",
       "prompt_number": 7,
       "text": [
        "           a\u22c5t\n",
        "f(t) = C\u2081\u22c5\u212f   "
       ]
      }
     ],
     "prompt_number": 7
    },
    {
     "cell_type": "markdown",
     "metadata": {},
     "source": [
      "If the population growth is bounded, it is modeled by \n",
      "\n",
      "$$f'(t) = f(t)(1 - f(t))$$"
     ]
    },
    {
     "cell_type": "code",
     "collapsed": false,
     "input": [
      "dsolve(f(t).diff(t) - f(t)*(1 - f(t)), f(t))"
     ],
     "language": "python",
     "metadata": {},
     "outputs": [
      {
       "latex": [
        "$$\\log{\\left (\\operatorname{f}{\\left (t \\right )} -1 \\right )} - \\log{\\left (\\operatorname{f}{\\left (t \\right )} \\right )} = C_{1} - t$$"
       ],
       "output_type": "pyout",
       "png": "[encoded data removed]",
       "prompt_number": 8,
       "text": [
        "log(f(t) - 1) - log(f(t)) = C\u2081 - t"
       ]
      }
     ],
     "prompt_number": 8
    }
   ],
   "metadata": {}
  }
 ]
}