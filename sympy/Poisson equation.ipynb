{
 "metadata": {
  "name": "Poisson equation"
 },
 "nbformat": 3,
 "nbformat_minor": 0,
 "worksheets": [
  {
   "cells": [
    {
     "cell_type": "markdown",
     "metadata": {},
     "source": [
      "Initialize printing:"
     ]
    },
    {
     "cell_type": "code",
     "collapsed": false,
     "input": [
      "%pylab inline\n",
      "from sympy.interactive.printing import init_printing\n",
      "init_printing()"
     ],
     "language": "python",
     "metadata": {},
     "outputs": [
      {
       "output_type": "stream",
       "stream": "stdout",
       "text": [
        "\n",
        "Welcome to pylab, a matplotlib-based Python environment [backend: module://IPython.zmq.pylab.backend_inline].\n",
        "For more information, type 'help(pylab)'.\n"
       ]
      }
     ],
     "prompt_number": 1
    },
    {
     "cell_type": "markdown",
     "metadata": {},
     "source": [
      "# Poisson Equation\n",
      "\n",
      "Radial Poisson equation is\n",
      "$$\n",
      "\\phi''(r)+{2\\over r} \\phi'(r) = -4\\pi\\rho(r).\n",
      "$$\n",
      "Alternatively, this can also be written as:\n",
      "$$\n",
      "{1\\over r}(r \\phi(r))'' = -4\\pi\\rho(r).\n",
      "$$\n",
      "### Example I\n",
      "\n",
      "Positive Gaussian charge density:"
     ]
    },
    {
     "cell_type": "code",
     "collapsed": false,
     "input": [
      "from sympy import var, exp, pi, sqrt, integrate, refine, Q, oo, Symbol, DiracDelta\n",
      "var(\"r alpha Z\")\n",
      "alpha = Symbol(\"alpha\", positive=True)\n",
      "rho = Z * (alpha / sqrt(pi))**3 * exp(-alpha**2 * r**2)\n",
      "rho"
     ],
     "language": "python",
     "metadata": {},
     "outputs": [
      {
       "latex": [
        "$$\\frac{Z \\alpha^{3} e^{- \\alpha^{2} r^{2}}}{\\pi^{\\frac{3}{2}}}$$"
       ],
       "output_type": "pyout",
       "png": "[encoded data removed]",
       "prompt_number": 2,
       "text": [
        "        2  2\n",
        "   3  -\u03b1 \u22c5r \n",
        "Z\u22c5\u03b1 \u22c5\u212f      \n",
        "\u2500\u2500\u2500\u2500\u2500\u2500\u2500\u2500\u2500\u2500\u2500\u2500\n",
        "     3/2    \n",
        "    \u03c0       "
       ]
      }
     ],
     "prompt_number": 2
    },
    {
     "cell_type": "markdown",
     "metadata": {},
     "source": [
      "The total charge is $Z$:"
     ]
    },
    {
     "cell_type": "code",
     "collapsed": false,
     "input": [
      "integrate(4*pi*rho*r**2, (r, 0, oo))"
     ],
     "language": "python",
     "metadata": {},
     "outputs": [
      {
       "latex": [
        "$$Z$$"
       ],
       "output_type": "pyout",
       "png": "[encoded data removed]",
       "prompt_number": 3,
       "text": [
        "Z"
       ]
      }
     ],
     "prompt_number": 3
    },
    {
     "cell_type": "markdown",
     "metadata": {},
     "source": [
      "Solve for $\\phi(r)$ from the Poisson equation:"
     ]
    },
    {
     "cell_type": "code",
     "collapsed": false,
     "input": [
      "phi = integrate(-4*pi*rho*r, r, r)/r\n",
      "phi"
     ],
     "language": "python",
     "metadata": {},
     "outputs": [
      {
       "latex": [
        "$$\\frac{Z \\operatorname{erf}{\\left (\\alpha r \\right )}}{r}$$"
       ],
       "output_type": "pyout",
       "png": "[encoded data removed]",
       "prompt_number": 4,
       "text": [
        "Z\u22c5erf(\u03b1\u22c5r)\n",
        "\u2500\u2500\u2500\u2500\u2500\u2500\u2500\u2500\u2500\u2500\n",
        "    r     "
       ]
      }
     ],
     "prompt_number": 4
    },
    {
     "cell_type": "markdown",
     "metadata": {},
     "source": [
      "Tell SymPy that $\\alpha$ is positive:"
     ]
    },
    {
     "cell_type": "code",
     "collapsed": false,
     "input": [
      "phi = refine(phi, Q.positive(alpha))\n",
      "phi"
     ],
     "language": "python",
     "metadata": {},
     "outputs": [
      {
       "latex": [
        "$$\\frac{Z \\operatorname{erf}{\\left (\\alpha r \\right )}}{r}$$"
       ],
       "output_type": "pyout",
       "png": "[encoded data removed]",
       "prompt_number": 5,
       "text": [
        "Z\u22c5erf(\u03b1\u22c5r)\n",
        "\u2500\u2500\u2500\u2500\u2500\u2500\u2500\u2500\u2500\u2500\n",
        "    r     "
       ]
      }
     ],
     "prompt_number": 5
    },
    {
     "cell_type": "markdown",
     "metadata": {},
     "source": [
      "Plot the charge:"
     ]
    },
    {
     "cell_type": "code",
     "collapsed": false,
     "input": [
      "from sympy import plot"
     ],
     "language": "python",
     "metadata": {},
     "outputs": [],
     "prompt_number": 6
    },
    {
     "cell_type": "code",
     "collapsed": false,
     "input": [
      "plot(rho.subs({Z: 1, alpha: 0.1}), (r, 0, 100));"
     ],
     "language": "python",
     "metadata": {},
     "outputs": [
      {
       "output_type": "display_data",
       "png": "[encoded data removed]"
      }
     ],
     "prompt_number": 7
    },
    {
     "cell_type": "markdown",
     "metadata": {},
     "source": [
      "Plot the potential"
     ]
    },
    {
     "cell_type": "code",
     "collapsed": false,
     "input": [
      "plot(phi.subs({Z: 1, alpha: 0.1}), 1/r, (r, 0, 100), ylim=[0, 0.12]);"
     ],
     "language": "python",
     "metadata": {},
     "outputs": [
      {
       "output_type": "display_data",
       "png": "[encoded data removed]"
      }
     ],
     "prompt_number": 8
    },
    {
     "cell_type": "code",
     "collapsed": false,
     "input": [],
     "language": "python",
     "metadata": {},
     "outputs": [],
     "prompt_number": 8
    }
   ],
   "metadata": {}
  }
 ]
}