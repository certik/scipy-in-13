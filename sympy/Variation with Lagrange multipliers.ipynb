{
 "metadata": {
  "name": "Variation with Lagrange multipliers"
 },
 "nbformat": 3,
 "nbformat_minor": 0,
 "worksheets": [
  {
   "cells": [
    {
     "cell_type": "markdown",
     "metadata": {},
     "source": [
      "Consider a curve given by the function $f(x)$ on the interval $[0,1]$ with the property $f(0)=f(1)=0$ and $f(x) > 0$\n",
      "everywhere else. The length of the curve is $l \\le 0$. What curve will have the maximum area under the function?\n",
      "\n",
      "We want to maximize the area functional:\n",
      "$$\n",
      "S[f] = \\int_0^1 f(x) d x\n",
      "$$\n",
      "subject to the constraint\n",
      "$$\n",
      "A[f] = \\int_0^1 \\sqrt{1+f'(x)^2} dx = l\n",
      "$$\n",
      "So we must extremize the modified functional:\n",
      "$$\n",
      "\\tilde S[f, \\lambda] = \\int_0^1 \\left(f(x)+\\lambda \\sqrt{1+f'(x)^2}\\right) d x\n",
      "$$\n",
      "The Euler-Lagrange equations\n",
      "$$\n",
      "{\\delta \\tilde S\\over\\delta f(x)} - {d\\over d x} {\\delta \\tilde S\\over\\delta f'(x)} = 0\n",
      "$$\n",
      "become\n",
      "$$\n",
      "1-{d\\over d x}\\left(\\lambda {f'(x)\\over \\sqrt{1+f'(x)^2}}\\right) = 0\n",
      "$$\n",
      "Integrating:\n",
      "$$\n",
      "x-\\lambda {f'(x)\\over \\sqrt{1+f'(x)^2}} = c_1\n",
      "$$"
     ]
    },
    {
     "cell_type": "code",
     "collapsed": false,
     "input": [
      "import sympy.interactive\n",
      "sympy.interactive.init_printing()"
     ],
     "language": "python",
     "metadata": {},
     "outputs": [],
     "prompt_number": 30
    },
    {
     "cell_type": "markdown",
     "metadata": {},
     "source": [
      "Let's assume $c_1 = 0$ for now..."
     ]
    },
    {
     "cell_type": "code",
     "collapsed": false,
     "input": [
      "from sympy import var, Symbol, Function, sqrt, solve, integrate, simplify, refine, Q, python, Derivative, Abs, Id, powsimp\n",
      "var(\"x c1\")\n",
      "lam = Symbol(\"lambda\")\n",
      "f = Function(\"f\")\n",
      "L = f(x) + lam*sqrt(1 + f(x).diff(x)**2)\n",
      "eq0 = L.diff(f(x)) - Derivative(L.diff(f(x).diff(x)), x)\n",
      "eq0"
     ],
     "language": "python",
     "metadata": {},
     "outputs": [
      {
       "latex": [
        "$$- \\frac{\\partial}{\\partial x}\\left(\\frac{\\lambda \\frac{\\partial}{\\partial x} \\operatorname{f}{\\left (x \\right )}}{\\sqrt{\\left(\\frac{\\partial}{\\partial x} \\operatorname{f}{\\left (x \\right )}\\right)^{2} + 1}}\\right) + 1$$"
       ],
       "output_type": "pyout",
       "png": "[encoded data removed]",
       "prompt_number": 53,
       "text": [
        "    \u239b       d            \u239e    \n",
        "    \u239c     \u03bb\u22c5\u2500\u2500(f(x))     \u239f    \n",
        "  d \u239c       dx           \u239f    \n",
        "- \u2500\u2500\u239c\u2500\u2500\u2500\u2500\u2500\u2500\u2500\u2500\u2500\u2500\u2500\u2500\u2500\u2500\u2500\u2500\u2500\u2500\u2500\u2500\u239f + 1\n",
        "  dx\u239c     _______________\u239f    \n",
        "    \u239c    \u2571         2     \u239f    \n",
        "    \u239c   \u2571  d             \u239f    \n",
        "    \u239c  \u2571   \u2500\u2500(f(x))  + 1 \u239f    \n",
        "    \u239d\u2572\u2571    dx            \u23a0    "
       ]
      }
     ],
     "prompt_number": 53
    },
    {
     "cell_type": "code",
     "collapsed": false,
     "input": [
      "# integrate can't handle it directly (it will work in the next release)\n",
      "# eq = integrate(eq0, x)\n",
      "eq = x - lam * f(x).diff(x) / sqrt(1+f(x).diff(x)**2) #- c1\n",
      "eq"
     ],
     "language": "python",
     "metadata": {},
     "outputs": [
      {
       "latex": [
        "$$- \\frac{\\lambda \\frac{\\partial}{\\partial x} \\operatorname{f}{\\left (x \\right )}}{\\sqrt{\\left(\\frac{\\partial}{\\partial x} \\operatorname{f}{\\left (x \\right )}\\right)^{2} + 1}} + x$$"
       ],
       "output_type": "pyout",
       "png": "[encoded data removed]",
       "prompt_number": 54,
       "text": [
        "         d                \n",
        "       \u03bb\u22c5\u2500\u2500(f(x))         \n",
        "         dx               \n",
        "- \u2500\u2500\u2500\u2500\u2500\u2500\u2500\u2500\u2500\u2500\u2500\u2500\u2500\u2500\u2500\u2500\u2500\u2500\u2500\u2500 + x\n",
        "       _______________    \n",
        "      \u2571         2         \n",
        "     \u2571  d                 \n",
        "    \u2571   \u2500\u2500(f(x))  + 1     \n",
        "  \u2572\u2571    dx                "
       ]
      }
     ],
     "prompt_number": 54
    },
    {
     "cell_type": "code",
     "collapsed": false,
     "input": [
      "sqrt(f(x)).diff(f(x))"
     ],
     "language": "python",
     "metadata": {},
     "outputs": [
      {
       "latex": [
        "$$\\frac{1}{2 \\sqrt{\\operatorname{f}{\\left (x \\right )}}}$$"
       ],
       "output_type": "pyout",
       "png": "[encoded data removed]",
       "prompt_number": 55,
       "text": [
        "    1     \n",
        "\u2500\u2500\u2500\u2500\u2500\u2500\u2500\u2500\u2500\u2500\n",
        "    ______\n",
        "2\u22c5\u2572\u2571 f(x) "
       ]
      }
     ],
     "prompt_number": 55
    },
    {
     "cell_type": "code",
     "collapsed": false,
     "input": [
      "dfx = solve(eq, f(x).diff(x))[1]\n",
      "dfx"
     ],
     "language": "python",
     "metadata": {},
     "outputs": [
      {
       "latex": [
        "$$\\sqrt{\\frac{x^{2}}{\\lambda^{2} - x^{2}}}$$"
       ],
       "output_type": "pyout",
       "png": "[encoded data removed]",
       "prompt_number": 56,
       "text": [
        "      _________\n",
        "     \u2571     2   \n",
        "    \u2571     x    \n",
        "   \u2571   \u2500\u2500\u2500\u2500\u2500\u2500\u2500 \n",
        "  \u2571     2    2 \n",
        "\u2572\u2571     \u03bb  - x  "
       ]
      }
     ],
     "prompt_number": 56
    },
    {
     "cell_type": "code",
     "collapsed": false,
     "input": [
      "fx = integrate(dfx, x)\n",
      "fx"
     ],
     "language": "python",
     "metadata": {},
     "outputs": [
      {
       "latex": [
        "$$- \\frac{\\lambda^{2} \\sqrt{x^{2}} \\sqrt{\\frac{1}{\\lambda^{2} - x^{2}}}}{x} + x \\sqrt{x^{2}} \\sqrt{\\frac{1}{\\lambda^{2} - x^{2}}}$$"
       ],
       "output_type": "pyout",
       "png": "[encoded data removed]",
       "prompt_number": 57,
       "text": [
        "        ____      _________                           \n",
        "   2   \u2571  2      \u2571    1                               \n",
        "  \u03bb \u22c5\u2572\u2571  x  \u22c5   \u2571  \u2500\u2500\u2500\u2500\u2500\u2500\u2500                            \n",
        "               \u2571    2    2         ____      _________\n",
        "             \u2572\u2571    \u03bb  - x         \u2571  2      \u2571    1    \n",
        "- \u2500\u2500\u2500\u2500\u2500\u2500\u2500\u2500\u2500\u2500\u2500\u2500\u2500\u2500\u2500\u2500\u2500\u2500\u2500\u2500\u2500\u2500\u2500\u2500\u2500 + x\u22c5\u2572\u2571  x  \u22c5   \u2571  \u2500\u2500\u2500\u2500\u2500\u2500\u2500 \n",
        "              x                           \u2571    2    2 \n",
        "                                        \u2572\u2571    \u03bb  - x  "
       ]
      }
     ],
     "prompt_number": 57
    },
    {
     "cell_type": "code",
     "collapsed": false,
     "input": [
      "fx = simplify(fx)\n",
      "fx"
     ],
     "language": "python",
     "metadata": {},
     "outputs": [
      {
       "latex": [
        "$$\\frac{\\left(- \\lambda^{2} + x^{2}\\right) \\sqrt{x^{2}} \\sqrt{\\frac{1}{\\lambda^{2} - x^{2}}}}{x}$$"
       ],
       "output_type": "pyout",
       "png": "[encoded data removed]",
       "prompt_number": 58,
       "text": [
        "               ____      _________\n",
        "\u239b   2    2\u239e   \u2571  2      \u2571    1    \n",
        "\u239d- \u03bb  + x \u23a0\u22c5\u2572\u2571  x  \u22c5   \u2571  \u2500\u2500\u2500\u2500\u2500\u2500\u2500 \n",
        "                      \u2571    2    2 \n",
        "                    \u2572\u2571    \u03bb  - x  \n",
        "\u2500\u2500\u2500\u2500\u2500\u2500\u2500\u2500\u2500\u2500\u2500\u2500\u2500\u2500\u2500\u2500\u2500\u2500\u2500\u2500\u2500\u2500\u2500\u2500\u2500\u2500\u2500\u2500\u2500\u2500\u2500\u2500\u2500\u2500\n",
        "                x                 "
       ]
      }
     ],
     "prompt_number": 58
    },
    {
     "cell_type": "code",
     "collapsed": false,
     "input": [
      "fx = refine(fx, Q.positive(x))\n",
      "fx"
     ],
     "language": "python",
     "metadata": {},
     "outputs": [
      {
       "latex": [
        "$$\\left(- \\lambda^{2} + x^{2}\\right) \\sqrt{\\frac{1}{\\lambda^{2} - x^{2}}}$$"
       ],
       "output_type": "pyout",
       "png": "[encoded data removed]",
       "prompt_number": 59,
       "text": [
        "                 _________\n",
        "\u239b   2    2\u239e     \u2571    1    \n",
        "\u239d- \u03bb  + x \u23a0\u22c5   \u2571  \u2500\u2500\u2500\u2500\u2500\u2500\u2500 \n",
        "              \u2571    2    2 \n",
        "            \u2572\u2571    \u03bb  - x  "
       ]
      }
     ],
     "prompt_number": 59
    },
    {
     "cell_type": "code",
     "collapsed": false,
     "input": [
      "refine(fx, Q.positive(lam**2-x**2))   # Unfortunately does not work..."
     ],
     "language": "python",
     "metadata": {},
     "outputs": [
      {
       "latex": [
        "$$\\frac{- \\lambda^{2} + x^{2}}{\\sqrt{\\lvert{\\lambda^{2} - x^{2}}\\rvert}}$$"
       ],
       "output_type": "pyout",
       "prompt_number": 60,
       "text": [
        "     2    2   \n",
        "  - \u03bb  + x    \n",
        "\u2500\u2500\u2500\u2500\u2500\u2500\u2500\u2500\u2500\u2500\u2500\u2500\u2500\u2500\n",
        "   ___________\n",
        "  \u2571 \u2502 2    2\u2502 \n",
        "\u2572\u2571  \u2502\u03bb  - x \u2502 "
       ]
      }
     ],
     "prompt_number": 60
    },
    {
     "cell_type": "code",
     "collapsed": false,
     "input": [
      "-refine(simplify(-fx), Q.positive(lam**2-x**2))"
     ],
     "language": "python",
     "metadata": {},
     "outputs": [
      {
       "latex": [
        "$$- \\frac{\\lambda^{2} - x^{2}}{\\sqrt{\\lvert{\\lambda^{2} - x^{2}}\\rvert}}$$"
       ],
       "output_type": "pyout",
       "prompt_number": 61,
       "text": [
        "   \u239b 2    2\u239e  \n",
        "  -\u239d\u03bb  - x \u23a0  \n",
        "\u2500\u2500\u2500\u2500\u2500\u2500\u2500\u2500\u2500\u2500\u2500\u2500\u2500\u2500\n",
        "   ___________\n",
        "  \u2571 \u2502 2    2\u2502 \n",
        "\u2572\u2571  \u2502\u03bb  - x \u2502 "
       ]
      }
     ],
     "prompt_number": 61
    },
    {
     "cell_type": "markdown",
     "metadata": {},
     "source": [
      "So the solution is $f(x) = -\\sqrt{\\lambda^2 - x^2}$. The minus sign should not be there, it probably got in at some point..."
     ]
    },
    {
     "cell_type": "code",
     "collapsed": false,
     "input": [],
     "language": "python",
     "metadata": {},
     "outputs": []
    }
   ],
   "metadata": {}
  }
 ]
}