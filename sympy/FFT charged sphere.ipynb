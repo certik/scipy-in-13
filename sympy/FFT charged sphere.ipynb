{
 "metadata": {
  "name": "FFT charged sphere"
 },
 "nbformat": 3,
 "nbformat_minor": 0,
 "worksheets": [
  {
   "cells": [
    {
     "cell_type": "markdown",
     "metadata": {},
     "source": [
      "Let's use SymPy to derive the relation between potential V and charge density R"
     ]
    },
    {
     "cell_type": "code",
     "collapsed": false,
     "input": [
      "%pylab inline\n",
      "from sympy.interactive import init_printing\n",
      "init_printing()\n",
      "from sympy import pi, var, S, Piecewise, piecewise_fold\n",
      "var(\"r R\")\n",
      "Vh = Piecewise((-S(2)/3 * pi * (3*R**2 - r**2), r <= R), (-S(4)/3 * pi * R**3 / r, True))\n",
      "def laplace(f):\n",
      "    return (r*f).diff(r, 2)/r\n",
      "print \"Vh =\"\n",
      "Vh"
     ],
     "language": "python",
     "metadata": {},
     "outputs": [
      {
       "output_type": "stream",
       "stream": "stdout",
       "text": [
        "\n",
        "Welcome to pylab, a matplotlib-based Python environment [backend: module://IPython.zmq.pylab.backend_inline].\n",
        "For more information, type 'help(pylab)'.\n"
       ]
      },
      {
       "output_type": "stream",
       "stream": "stdout",
       "text": [
        "Vh =\n"
       ]
      },
      {
       "latex": [
        "$$\\begin{cases} - \\frac{2}{3} \\pi \\left(3 R^{2} - r^{2}\\right) & \\text{for}\\: r \\leq R \\\\- \\frac{4}{3} \\frac{\\pi R^{3}}{r} & \\text{otherwise} \\end{cases}$$"
       ],
       "output_type": "pyout",
       "prompt_number": 1,
       "text": [
        "\u23a7     \u239b   2    2\u239e           \n",
        "\u23aa-2\u22c5\u03c0\u22c5\u239d3\u22c5R  - r \u23a0           \n",
        "\u23aa\u2500\u2500\u2500\u2500\u2500\u2500\u2500\u2500\u2500\u2500\u2500\u2500\u2500\u2500\u2500\u2500  for r \u2264 R\n",
        "\u23aa       3                   \n",
        "\u23a8                           \n",
        "\u23aa          3                \n",
        "\u23aa    -4\u22c5\u03c0\u22c5R                 \n",
        "\u23aa    \u2500\u2500\u2500\u2500\u2500\u2500\u2500       otherwise\n",
        "\u23a9      3\u22c5r                  "
       ]
      }
     ],
     "prompt_number": 1
    },
    {
     "cell_type": "markdown",
     "metadata": {},
     "source": [
      "Charge density is then:"
     ]
    },
    {
     "cell_type": "code",
     "collapsed": false,
     "input": [
      "piecewise_fold(-laplace(Vh)/(4*pi))"
     ],
     "language": "python",
     "metadata": {},
     "outputs": [
      {
       "latex": [
        "$$\\begin{cases} -1 & \\text{for}\\: r \\leq R \\\\0 & \\text{otherwise} \\end{cases}$$"
       ],
       "output_type": "pyout",
       "prompt_number": 2,
       "text": [
        "\u23a7-1  for r \u2264 R\n",
        "\u23a8             \n",
        "\u23a90   otherwise"
       ]
      }
     ],
     "prompt_number": 2
    },
    {
     "cell_type": "code",
     "collapsed": false,
     "input": [
      "from numpy import (empty, pi, meshgrid, linspace, sum, sin, exp, shape, sqrt,\n",
      "        conjugate)\n",
      "from numpy.fft import fftn, fftfreq, ifftn\n",
      "\n",
      "N = 100\n",
      "print \"N =\", N\n",
      "L = 2.4*4\n",
      "R = 1.\n",
      "x1d = linspace(-L/2, L/2, N+1)[:-1]\n",
      "x, y, z = meshgrid(x1d, x1d, x1d, indexing=\"ij\")\n",
      "\n",
      "r = sqrt(x**2+y**2+z**2)\n",
      "nr = empty(shape(x), dtype=\"double\")\n",
      "nr[:] = 0\n",
      "nr[r <= R] = -1\n",
      "\n",
      "Vanalytic = empty(shape(x), dtype=\"double\")\n",
      "Vanalytic[r <= R] = -2./3 * pi * (3*R**2 - r[r <= R]**2)\n",
      "Vanalytic[r > R] = -4./3 * pi * R**3 / r[r > R]\n",
      "\n",
      "ng = fftn(nr) / N**3\n",
      "\n",
      "G1d = N * fftfreq(N) * 2*pi/L\n",
      "kx, ky, kz = meshgrid(G1d, G1d, G1d)\n",
      "G2 = kx**2+ky**2+kz**2\n",
      "G2[0, 0, 0] = 1  # omit the G=0 term\n",
      "\n",
      "tmp = 2*pi*abs(ng)**2 / G2\n",
      "tmp[0, 0, 0] = 0  # omit the G=0 term\n",
      "E = sum(tmp) * L**3\n",
      "print \"Hartree Energy (calculated): %.15f\" % E\n",
      "\n",
      "\n",
      "Vg = 4*pi*ng / G2\n",
      "Vg[0, 0, 0] = 0  # omit the G=0 term\n",
      "V = ifftn(Vg).real * N**3\n",
      "V += Vanalytic[N/2, N/2, N/2] - V[N/2, N/2, N/2]\n",
      "l2_norm = sum((Vanalytic - V)**2) \n",
      "print \"l2_norm = \", l2_norm\n",
      "plot(x[:, N/2, N/2], Vanalytic[:, N/2, N/2], label=\"analytic\")\n",
      "plot(x[:, N/2, N/2], V[:, N/2, N/2], label=\"FFT\")\n",
      "legend(loc=\"best\");"
     ],
     "language": "python",
     "metadata": {},
     "outputs": [
      {
       "output_type": "stream",
       "stream": "stdout",
       "text": [
        "N = 100\n",
        "Hartree Energy (calculated): 7.945878466121926"
       ]
      },
      {
       "output_type": "stream",
       "stream": "stdout",
       "text": [
        "\n",
        "l2_norm = "
       ]
      },
      {
       "output_type": "stream",
       "stream": "stdout",
       "text": [
        " 48304.2303309\n"
       ]
      },
      {
       "output_type": "display_data",
       "png": "[encoded data removed]"
      }
     ],
     "prompt_number": 3
    },
    {
     "cell_type": "code",
     "collapsed": false,
     "input": [],
     "language": "python",
     "metadata": {},
     "outputs": [],
     "prompt_number": 3
    }
   ],
   "metadata": {}
  }
 ]
}