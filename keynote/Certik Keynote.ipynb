{
 "metadata": {
  "name": ""
 },
 "nbformat": 3,
 "nbformat_minor": 0,
 "worksheets": [
  {
   "cells": [
    {
     "cell_type": "markdown",
     "metadata": {
      "slideshow": {
       "slide_type": "slide"
      }
     },
     "source": [
      "# Python in Scientific Computing\n",
      "\n",
      "Ond\u0159ej \u010cert\u00edk\n",
      "\n",
      "Los Alamos National Laboratory"
     ]
    },
    {
     "cell_type": "markdown",
     "metadata": {
      "slideshow": {
       "slide_type": "skip"
      }
     },
     "source": [
      "Abstract:\n",
      "In this keynote we show how Python is used in scientific computing, its\n",
      "relevance and importance from a variety of standpoints. We motivate the use of\n",
      "Python and its applications to visualization (Matplotlib, VTK, Mayavi),\n",
      "symbolic computing (SymPy) and numerical computing. For numerical, array\n",
      "oriented algorithms, it is hard to beat modern Fortran in terms of simplicity\n",
      "and speed, so we compare NumPy/SciPy side by side with Fortran to show that the\n",
      "syntax is almost identical and thus very natural to go back and forth. We show\n",
      "how to wrap Fortran and C++ code into Python. We provide examples how these\n",
      "tools are used in warm dense matter and other research at LANL. Finally, we\n",
      "show how all of the above tasks can be conveniently executed from the IPython\n",
      "Notebook, an interactive environment for scientific computing."
     ]
    },
    {
     "cell_type": "code",
     "collapsed": false,
     "input": [
      "%pylab inline"
     ],
     "language": "python",
     "metadata": {
      "slideshow": {
       "slide_type": "skip"
      }
     },
     "outputs": []
    },
    {
     "cell_type": "markdown",
     "metadata": {
      "slideshow": {
       "slide_type": "slide"
      }
     },
     "source": [
      "# Outline\n",
      "\n",
      "* What is Scientific Computing\n",
      "* Python ecosystem\n",
      "* IPython: Interactive Python (Visualize, Interact, Compute)\n",
      "* SymPy: Symbolic manipulation\n",
      "* How opensource works\n",
      "* Python 2 to 3 transition"
     ]
    },
    {
     "cell_type": "markdown",
     "metadata": {
      "slideshow": {
       "slide_type": "slide"
      }
     },
     "source": [
      "# Beyond (Floating Point) Number Crunching\n",
      "\n",
      "<img src=\"files/images/fortran_graph.png\">\n",
      "\n",
      "*Source: Fernando P\u00e9rez*"
     ]
    },
    {
     "cell_type": "markdown",
     "metadata": {
      "slideshow": {
       "slide_type": "slide"
      }
     },
     "source": [
      "# NumPy: the Foundation. Modern Array Processing\n",
      "\n",
      "* A flexible, efficient, multidimensional array object.\n",
      "* Convenient syntax: c = a+b.\n",
      "* Math library that operates on arrays: `y = sin(k*t)`.\n",
      "* Basic scientific functionality:\n",
      "    * Linear algebra\n",
      "    * FFTs\n",
      "    * Random number generation\n",
      "    \n",
      "*Source: Fernando P\u00e9rez*"
     ]
    },
    {
     "cell_type": "markdown",
     "metadata": {
      "slideshow": {
       "slide_type": "slide"
      }
     },
     "source": [
      "# Scientific Python: a Rich Ecosystem\n",
      "\n",
      "<img src=\"files/images/python_ecosystem.png\">\n",
      "\n",
      "*Source: Fernando P\u00e9rez*"
     ]
    },
    {
     "cell_type": "markdown",
     "metadata": {
      "slideshow": {
       "slide_type": "slide"
      }
     },
     "source": [
      "### Computing is not the \u2019third branch\u2019 of science...\n",
      "\n",
      "### It is now the backbone of theory and experiment!"
     ]
    },
    {
     "cell_type": "markdown",
     "metadata": {
      "slideshow": {
       "slide_type": "-"
      }
     },
     "source": [
      "Computing in science must improve drastically before we can really\n",
      "call it scientific."
     ]
    },
    {
     "cell_type": "markdown",
     "metadata": {
      "slideshow": {
       "slide_type": "-"
      }
     },
     "source": [
      "*Source: Fernando P\u00e9rez*"
     ]
    },
    {
     "cell_type": "markdown",
     "metadata": {
      "slideshow": {
       "slide_type": "slide"
      }
     },
     "source": [
      "# The Lifecycle of a Scientific Idea (schematically)\n",
      "\n",
      "1. **Individual** exploratory work\n",
      "2. **Collaborative** development\n",
      "3. **Production** work (HPC, cloud, **parallel**)\n",
      "4. **Publication** (with *reproducible* results!)\n",
      "5. **Education**\n",
      "6. Goto 1."
     ]
    },
    {
     "cell_type": "markdown",
     "metadata": {
      "slideshow": {
       "slide_type": "fragment"
      }
     },
     "source": [
      "### The Problem with most tools\n",
      "Barriers and discontinuities in workflow in between all the steps"
     ]
    },
    {
     "cell_type": "markdown",
     "metadata": {
      "slideshow": {
       "slide_type": "-"
      }
     },
     "source": [
      "*Source: Fernando P\u00e9rez*"
     ]
    },
    {
     "cell_type": "markdown",
     "metadata": {
      "slideshow": {
       "slide_type": "slide"
      }
     },
     "source": [
      "# IPython\u2019s goal:\n",
      "#Fluid transitions in all these steps"
     ]
    },
    {
     "cell_type": "markdown",
     "metadata": {
      "slideshow": {
       "slide_type": "-"
      }
     },
     "source": [
      "*Source: Fernando P\u00e9rez*"
     ]
    },
    {
     "cell_type": "markdown",
     "metadata": {
      "slideshow": {
       "slide_type": "slide"
      }
     },
     "source": [
      "# 1. Individual exploratory work: Visualize, Interact, Compute\n",
      "\n",
      "<img src=\"files/images/VizInteractCompute.png\">\n",
      "\n",
      "Source: Brian Granger"
     ]
    },
    {
     "cell_type": "markdown",
     "metadata": {
      "slideshow": {
       "slide_type": "slide"
      }
     },
     "source": [
      "Simple Matplotlib Demo"
     ]
    },
    {
     "cell_type": "code",
     "collapsed": false,
     "input": [
      "%matplotlib inline\n",
      "import numpy as np\n",
      "import matplotlib.pyplot as plt\n",
      "\n",
      "def plot(amplitude, color):\n",
      "    fig, ax = plt.subplots(figsize=(4, 3),\n",
      "                           subplot_kw={'axisbg':'#EEEEEE',\n",
      "                                       'axisbelow':True})\n",
      "    ax.grid(color='w', linewidth=2, linestyle='solid')\n",
      "    x = np.linspace(0, 10, 1000)\n",
      "    ax.plot(x, amplitude * np.sin(x), color=color,\n",
      "            lw=5, alpha=0.4)\n",
      "    ax.set_xlim(0, 10)\n",
      "    ax.set_ylim(-1.1, 1.1)\n",
      "    return fig"
     ],
     "language": "python",
     "metadata": {
      "slideshow": {
       "slide_type": "skip"
      }
     },
     "outputs": []
    },
    {
     "cell_type": "code",
     "collapsed": false,
     "input": [
      "from ipywidgets import StaticInteract, RangeWidget, RadioWidget\n",
      "\n",
      "StaticInteract(plot,\n",
      "               amplitude=RangeWidget(0.1, 1.0, 0.1),\n",
      "               color=RadioWidget(['blue', 'green', 'red']))"
     ],
     "language": "python",
     "metadata": {},
     "outputs": []
    },
    {
     "cell_type": "markdown",
     "metadata": {
      "slideshow": {
       "slide_type": "slide"
      }
     },
     "source": [
      "### Atomic orbitals"
     ]
    },
    {
     "cell_type": "code",
     "collapsed": false,
     "input": [
      "def make_plot(Z, R, orbitals):\n",
      "    fig, ax = plt.subplots(figsize=(4, 3),\n",
      "                           subplot_kw={'axisbg':'#EEEEEE',\n",
      "                                       'axisbelow':True})\n",
      "    ax.grid(color='w', linewidth=2, linestyle='solid')\n",
      "    for i in range(size(orbitals, 1)):\n",
      "        ax.plot(R, orbitals[:, i], lw=5, alpha=0.4)\n",
      "    ax.set_xlim(0, 4)\n",
      "    ax.set_ylim(-10, 10)\n",
      "    ax.set_title(\"Atomic orbitals (Z=%d)\" % Z)\n",
      "    ax.set_xlabel(\"$R$\")\n",
      "    ax.set_ylabel(\"Orbitals [a.u.]\")\n",
      "    return fig\n"
     ],
     "language": "python",
     "metadata": {
      "slideshow": {
       "slide_type": "skip"
      }
     },
     "outputs": []
    },
    {
     "cell_type": "code",
     "collapsed": false,
     "input": [
      "from dftatom import atom_lda\n",
      "from numpy import size\n",
      "\n",
      "def plot(Z):\n",
      "    a = 2.7e6\n",
      "    rmin = 1e-7\n",
      "    rmax = 50\n",
      "    N = 5500\n",
      "    E_tot, ks_energies, n, l, f, R, Rp, V_tot, density, orbitals = \\\n",
      "            atom_lda(Z, rmin, rmax, a, N, 1e-11, 100, 1e-10, 0.35, 100, True)\n",
      "    return make_plot(Z, R, orbitals)\n",
      "\n",
      "\n",
      "StaticInteract(plot,\n",
      "               Z=RangeWidget(1, 4),\n",
      "               )\n"
     ],
     "language": "python",
     "metadata": {},
     "outputs": []
    },
    {
     "cell_type": "markdown",
     "metadata": {
      "slideshow": {
       "slide_type": "slide"
      }
     },
     "source": [
      "# Demo: My LANL Usage\n",
      "\n",
      "* Communicating results\n",
      "* All plots, visualization"
     ]
    },
    {
     "cell_type": "markdown",
     "metadata": {
      "slideshow": {
       "slide_type": "slide"
      }
     },
     "source": [
      "# Conclusion:\n",
      "\n",
      "## Use IPython. It is only going to get better."
     ]
    },
    {
     "cell_type": "markdown",
     "metadata": {
      "slideshow": {
       "slide_type": "slide"
      }
     },
     "source": [
      "# (Incomplete) Cast of IPython Authors\n",
      "\n",
      "* **Fernando P\u00e9rez** - UC Berkeley\n",
      "* **Brian Granger** - Physics, Cal State San Luis Obispo\n",
      "* **Min Ragan-Kelley** - Nuclear Engineering, UC Berkeley\n",
      "* Matthias Bussonnier - Physics, Institut Curie, Paris\n",
      "* Brad Froehle - Mathematics, UC Berkeley\n",
      "* Paul Ivanov - Neuroscience, UC Berkeley\n",
      "* Robert Kern - Enthought\n",
      "* Thomas Kluyver - Biology, U. Sheffield\n",
      "* Jonathan March- Enthought\n",
      "* Evan Patterson - Physics, Caltech/Enthought\n",
      "* J\u00f6rgen Stenarson - Elect. Engineering, Sweden\n",
      "* Stefan van der Walt - UC Berkeley\n",
      "* John Hunter - TradeLink Securities, Chicago\n",
      "* Prabhu Ramachandran - Aerospace Engineering, IIT Bombay\n",
      "* Satra Ghosh- MIT Neuroscience\n",
      "* Ga\u00ebl Varoquaux - Neurospin (Orsay, France)\n",
      "* Ville Vainio - CS, Tampere University of Technology, Finland\n",
      "* Barry Wark - Neuroscience, U. Washington\n",
      "* Ond\u0159ej \u010cert\u00edk - Physics, LANL\n",
      "* Darren Dale - Cornell\n",
      "* Justin Riley - MIT\n",
      "* Mark Voorhies - UC San Francisco\n",
      "* Nicholas Rougier - INRIA Nancy Grand Est\n",
      "* Thomas Spura - Fedora project\n",
      "* Many more! (~250 commit authors)"
     ]
    },
    {
     "cell_type": "markdown",
     "metadata": {
      "slideshow": {
       "slide_type": "-"
      }
     },
     "source": [
      "*Source: Fernando P\u00e9rez*"
     ]
    },
    {
     "cell_type": "markdown",
     "metadata": {
      "slideshow": {
       "slide_type": "slide"
      }
     },
     "source": [
      "# My Involvement with Python Scientific Computing\n",
      "\n",
      "* I've used Python from about 2001\n",
      "* On my own (no contact with the community)\n",
      "* 2005, 2006 I realized that Symbolic capabilities are missing\n",
      "* 2007 worked on SymPy day and night\n",
      "* 2007 SciPy conference at Caltech"
     ]
    },
    {
     "cell_type": "markdown",
     "metadata": {
      "slideshow": {
       "slide_type": "slide"
      }
     },
     "source": [
      "# Example"
     ]
    },
    {
     "cell_type": "code",
     "collapsed": false,
     "input": [
      "from sympy import init_printing, var, sqrt, factor, integrate, erf\n",
      "init_printing(use_latex=True)\n",
      "var(\"x\")"
     ],
     "language": "python",
     "metadata": {},
     "outputs": []
    },
    {
     "cell_type": "code",
     "collapsed": false,
     "input": [
      "e = factor(x**36-1)\n",
      "e"
     ],
     "language": "python",
     "metadata": {},
     "outputs": []
    },
    {
     "cell_type": "code",
     "collapsed": false,
     "input": [
      "e.expand()"
     ],
     "language": "python",
     "metadata": {},
     "outputs": []
    },
    {
     "cell_type": "code",
     "collapsed": false,
     "input": [
      "erf(x).series(x, 0, 6)"
     ],
     "language": "python",
     "metadata": {},
     "outputs": []
    },
    {
     "cell_type": "code",
     "collapsed": false,
     "input": [
      "integrate(1/(x**3+1), x)"
     ],
     "language": "python",
     "metadata": {},
     "outputs": []
    },
    {
     "cell_type": "markdown",
     "metadata": {
      "slideshow": {
       "slide_type": "slide"
      }
     },
     "source": [
      "# SymPy\n",
      "\n",
      "## History\n",
      "\n",
      "* I started the project in 2006\n",
      "* Development took off in 2007 when SymPy first participated in Google Summer of Code. We have participated in every Google  Summer of Code since.\n",
      "* In 2011, Aaron Meurer (who also joined from Google Summer of Code) took over as lead developer."
     ]
    },
    {
     "cell_type": "markdown",
     "metadata": {
      "slideshow": {
       "slide_type": "fragment"
      }
     },
     "source": [
      "## Present (Current Status)\n",
      "* Over 250 contributors.\n",
      "* Current code base has over 400,000 lines of code and documentation.\n",
      "* We are transforming from \u201csympy a toy\u201d to \u201csympy a tool\u201d"
     ]
    },
    {
     "cell_type": "markdown",
     "metadata": {
      "slideshow": {
       "slide_type": "slide"
      }
     },
     "source": [
      "# SymPy Authors\n",
      "\n",
      "Chris Smith\n",
      "Aaron Meurer\n",
      "Mateusz Paprocki\n",
      "Ond\u0159ej \u010cert\u00edk\n",
      "Matthew Rocklin\n",
      "Julien Rioux\n",
      "Ronan Lamy\n",
      "Raoul Bourquin\n",
      "Sergey B Kirpichev\n",
      "Kirill Smelkov\n",
      "\u00d8yvind Jensen\n",
      "Tom Bachmann\n",
      "Mario Pernici\n",
      "Sergiu Ivanov\n",
      "Saptarshi Mandal\n",
      "Stefan Krastanov\n",
      "Thilina Rathnayake\n",
      "Rick Muller\n",
      "Sean Vig\n",
      "Brian E. Granger\n",
      "David Li\n",
      "Vinzent Steinberg\n",
      "Vladimir Peri\u0107\n",
      "Gilbert Gede\n",
      "Raymond Wong\n",
      "Fredrik Johansson\n",
      "Fabian Pedregosa\n",
      "Bharath M R\n",
      "Addison Cugini\n",
      "Thomas Hisch\n",
      "Guru Devanla\n",
      "Manoj Kumar\n",
      "Alexey U. Gudchenko\n",
      "Sachin Joglekar\n",
      "hm\n",
      "Priit Laes\n",
      "Prasoon Shukla\n",
      "Matt Habel\n",
      "Alan Bromborsky\n",
      "Timothy Reluga\n",
      "Tomo Lazovich\n",
      "Matt Curry\n",
      "Mary Clark\n",
      "Pablo Puente\n",
      "Jason Gedge\n",
      "Christopher Dembia\n",
      "Aleksandar Makelov\n",
      "Katja Sophie Hotz\n",
      "Brian Jorgensen\n",
      "Kendhia\n",
      "Francesco Bonazzi\n",
      "Ramana Venkata\n",
      "Andy R. Terrel\n",
      "Joachim Durchholz\n",
      "Grzegorz \u015awirski\n",
      "Pearu Peterson\n",
      "Sebastian Kr\u00e4mer\n",
      "Joan Creus\n",
      "Siddhanathan Shanmugam\n",
      "Toon Verstraelen\n",
      "Crist\u00f3v\u00e3o Sousa\n",
      "Christian Muise\n",
      "Jorn Baayen\n",
      "Jeremias Yehdegho\n",
      "Alexander Hirzel\n",
      "Kevin Hunter\n",
      "Matthew Hoff\n",
      "Riccardo Gori\n",
      "Steve Anton\n",
      "Sanket Agarwal\n",
      "Jason Moore\n",
      "Robert Schwarz\n",
      "David Ju\n",
      "Angadh Nanjangud\n",
      "Luke Peterson\n",
      "Oliver Lee\n",
      "Renato Coutinho\n",
      "Yuriy Demidov\n",
      "Bilal Akhtar\n",
      "Stepan Roucka\n",
      "Chetna Gupta\n",
      "Miha Marolt\n",
      "Stephen Loo\n",
      "Nathan Alison\n",
      "Niklas Th\u00f6rne\n",
      "Saurabh Jha\n",
      "jerryma1121\n",
      "Brian Stephanik\n",
      "Robert Kern\n",
      "Sachin Irukula\n",
      "Sam Sleight\n",
      "Angus Griffith\n",
      "Patrick Lacasse\n",
      "Swapnil Agarwal\n",
      "Gary Kerr\n",
      "Mike Boyle\n",
      "Natalia Nawara\n",
      "Nicolas Pourcelot\n",
      "Sherjil Ozair\n",
      "Ankit Agrawal\n",
      "Huijun Mai\n",
      "Jim Zhang\n",
      "Ljubi\u0161a Mo\u0107i\u0107\n",
      "Prafullkumar P. Tale\n",
      "Marek \u0160uppa\n",
      "Freddie Witherden\n",
      "Roberto Nobrega\n",
      "David Joyner\n",
      "Felix Kaiser\n",
      "Friedrich Hagedorn\n",
      "Randy Heydon\n",
      "Saroj Adhikari\n",
      "Sean Ge\n",
      "Alexey Subach\n",
      "Alkiviadis G. Akritas\n",
      "CJ Carey\n",
      "Eric Nelson\n",
      "Jaroslaw Tworek\n",
      "Yuri Karadzhov\n",
      "Christian B\u00fchler\n",
      "Rishabh Dixit\n",
      "Ryan Krauss\n",
      "Amit Saha\n",
      "Ananya H\n",
      "Andreas Kloeckner\n",
      "Demian Wassermann\n",
      "Mark Dewing\n",
      "Min Ragan-Kelley\n",
      "Raphael Michel\n",
      "Sam Magura\n",
      "Tim Swast\n",
      "Chancellor Arkantos\n",
      "Chris Wu\n",
      "Christophe Saint-Jean\n",
      "Davy Mao\n",
      "Harold Erbin\n",
      "Khagesh Patel\n",
      "Manish Gill\n",
      "Matthew Brett\n",
      "Nichita Utiu\n",
      "Piotr Korgul\n",
      "Roland Puntaier\n",
      "Tarun Gaba\n",
      "Tobias Lenz\n",
      "Tomasz Buchert\n",
      "Abderrahim Kitouni"
     ]
    },
    {
     "cell_type": "markdown",
     "metadata": {
      "slideshow": {
       "slide_type": "slide"
      }
     },
     "source": [
      "# SymPy Authors (continued)\n",
      "\n",
      "Alexandr Popov\n",
      "Chris Conley\n",
      "David Roberts\n",
      "Florian Mickler\n",
      "Harsh Gupta\n",
      "Imran Ahmed Manzoor\n",
      "Jochen Voss\n",
      "Nimish Telang\n",
      "Rom le Clair\n",
      "Sebastian Kreft\n",
      "Stefan van der Walt\n",
      "Stefano Maggiolo\n",
      "Stefen Yin\n",
      "Tiffany Zhu\n",
      "Tristan Hume\n",
      "Varun Joshi\n",
      "\u00d3scar N\u00e1jera\n",
      "Akshay Srinivasan\n",
      "Akshit Agarwal\n",
      "Amit Jamadagni\n",
      "Andrew Straw\n",
      "Barry Wardell\n",
      "Benjamin McDonald\n",
      "Bill Flynn\n",
      "Case Van Horsen\n",
      "Emma Hogan\n",
      "Geoffry Song\n",
      "George Waksman\n",
      "Heiner Kirchhoffer\n",
      "Jens H. Nielsen\n",
      "Julio Idichekop Filho\n",
      "Luca Weihs\n",
      "Luis Garcia\n",
      "Manoj Babu K.\n",
      "Martin Povi\u0161er\n",
      "Nikolay Lazarov\n",
      "Pan Peng\n",
      "Raffaele De Feo\n",
      "Shravas K Rao\n",
      "Ted Horst\n",
      "Arpit Goyal\n",
      "Ashwini Oruganti\n",
      "Ben Goodrich\n",
      "Boris Timokhin\n",
      "Bradley Froehle\n",
      "Colleen Lee\n",
      "David Marek\n",
      "Dmitry Batkovich\n",
      "Fernando Perez\n",
      "Goutham Lakshminarayan\n",
      "Henrik Johansson\n",
      "Jack McCaffery\n",
      "James Aspnes\n",
      "James Fiedler\n",
      "Jezreel Ng\n",
      "Jurjen N.E. Bos\n",
      "Michael Mayorov\n",
      "Nikhil Sarda\n",
      "Oleksandr Gituliar\n",
      "Oscar Benjamin\n",
      "Pavel Fedotov\n",
      "Pradyumna\n",
      "QuaBoo\n",
      "Sai Nikhil\n",
      "Thomas Dixon\n",
      "Thomas Wiecki\n",
      "Tom\u00e1\u0161 Bambas\n",
      "Tuomas Airaksinen\n",
      "rathmann\n",
      "tsmars15\n",
      "Acebulf\n",
      "Alexander Ebersp\u00e4cher\n",
      "Alexandr Gudulin\n",
      "Ali Raza Syed\n",
      "Anatolii Koval\n",
      "Andre de Fortier Smit\n",
      "Andrej Tokar\u010d\u00edk\n",
      "Andrew Docherty\n",
      "Bastian Weber\n",
      "Benjamin Fishbein\n",
      "Bernhard R. Link\n",
      "Bj\u00f6rn Dahlgren\n",
      "Carsten Knoll\n",
      "Christian Schubert\n",
      "Comer Duncan\n",
      "David Lawrence\n",
      "Eh Tan\n",
      "Elrond der Elbenfuerst\n",
      "Erik Welch\n",
      "Gert-Ludwig Ingold\n",
      "Gregory Ksionda\n",
      "Hubert Tsang\n",
      "James Abbatiello\n",
      "James Goppert\n",
      "James Pearson\n",
      "Jeremy\n",
      "Johann Cohen-Tanugi\n",
      "Jorge E. Cardona\n",
      "Joseph Dougherty\n",
      "Kaifeng Zhu\n",
      "Kazuo Thow\n",
      "Kevin Goodsell\n",
      "Kibeom Kim\n",
      "Konrad Meyer\n",
      "Lars Buitinck\n",
      "Madeleine Ball\n",
      "Marcin Kostrzewa\n",
      "Markus M\u00fcller\n",
      "Matt Rajca\n",
      "Matthew Tadd\n",
      "Matthias Toews\n",
      "Max Hutchinson\n",
      "Nicholas J.S. Kinar\n",
      "Or Dvory\n",
      "Paul Strickland\n",
      "Pauli Virtanen\n",
      "Prateek Papriwal\n",
      "Puneeth Chaganti\n",
      "Rizgar Mella\n",
      "Robert\n",
      "Robert Cimrman\n",
      "Roberto Colistete, Jr.\n",
      "Sebastian Krause\n",
      "Seshagiri Prabhu\n",
      "Shai 'Deshe' Wyborski\n",
      "Shruti Mangipudi\n",
      "Siddhant Jain\n",
      "Srinivas Vasudevan\n",
      "Stepan Simsa\n",
      "Takafumi Arakaki\n",
      "Tarang Patel\n",
      "Thomas Sidoti\n",
      "Tim Lahey\n",
      "Tyler Pirtle\n",
      "Vasily Povalyaev\n",
      "Vinay Kumar\n",
      "Vinit Ravishankar\n",
      "Vladimir Lagunov\n",
      "marshall2389\n",
      "vishal\n",
      "\u0141ukasz Pankowski"
     ]
    },
    {
     "cell_type": "markdown",
     "metadata": {
      "slideshow": {
       "slide_type": "slide"
      }
     },
     "source": [
      "# How Open Source Works"
     ]
    },
    {
     "cell_type": "code",
     "collapsed": false,
     "input": [
      "def get_data(filename):\n",
      "    data = array([int(l.split()[0]) for l in open(\"commits/\" + filename).readlines()])\n",
      "    return data"
     ],
     "language": "python",
     "metadata": {
      "slideshow": {
       "slide_type": "skip"
      }
     },
     "outputs": []
    },
    {
     "cell_type": "code",
     "collapsed": false,
     "input": [
      "for project in [\"sympy\", \"ipython\", \"numpy\", \"matplotlib\", \"sklearn\", \"pandas\", \"scipy\"]:\n",
      "    data = get_data(\"%s-year.txt\" % project)\n",
      "    plot(data, lw=2, label=\"%s last year\" % project)\n",
      "   \n",
      "axhline(50, lw=1, color='k', linestyle='--')\n",
      "legend()\n",
      "grid()\n",
      "xlabel(\"Individual committer\")\n",
      "ylabel(\"# of commits\")\n",
      "xlim([0, 25]);\n",
      "#ylim([0, 1]);\n",
      "savefig(\"commits1.png\")"
     ],
     "language": "python",
     "metadata": {
      "slideshow": {
       "slide_type": "skip"
      }
     },
     "outputs": []
    },
    {
     "cell_type": "code",
     "collapsed": false,
     "input": [
      "for project in [\"sympy\", \"ipython\", \"numpy\", \"matplotlib\", \"sklearn\", \"pandas\", \"scipy\", \"linux\"]:\n",
      "    data = get_data(\"%s-year.txt\" % project)\n",
      "    plot(data, lw=2, label=\"%s last year\" % project)\n",
      "   \n",
      "axhline(50, lw=1, color='k', linestyle='--')\n",
      "legend()\n",
      "grid()\n",
      "xlabel(\"Individual committer\")\n",
      "ylabel(\"# of commits\")\n",
      "xlim([0, 25]);\n",
      "ylim([0, 1200]);\n",
      "savefig(\"commits1b.png\")"
     ],
     "language": "python",
     "metadata": {
      "slideshow": {
       "slide_type": "skip"
      }
     },
     "outputs": []
    },
    {
     "cell_type": "code",
     "collapsed": false,
     "input": [
      "for project in [\"sympy\", \"ipython\", \"numpy\", \"matplotlib\", 'sklearn', 'pandas', 'scipy']:\n",
      "    data = get_data(\"%s-all.txt\" % project)\n",
      "    #data = data / float(sum(data))\n",
      "    #data = data / float(data[0])\n",
      "    data = np.append(data, [0.55]*(300 - len(data)))\n",
      "    semilogy(data, lw=2, label=\"%s all\" % project)\n",
      "\n",
      "legend()\n",
      "grid()\n",
      "xlabel(\"individual people\")\n",
      "ylabel(\"total number of patches\")\n",
      "xlim([0, 300]);\n",
      "ylim([0.6, 1e4]);\n",
      "savefig(\"commits-all.png\")"
     ],
     "language": "python",
     "metadata": {
      "slideshow": {
       "slide_type": "skip"
      }
     },
     "outputs": []
    },
    {
     "cell_type": "code",
     "collapsed": false,
     "input": [
      "for project in [\"sympy\", \"ipython\", \"numpy\", \"matplotlib\", 'sklearn', 'pandas', 'scipy', \"linux\"]:\n",
      "    data = get_data(\"%s-all.txt\" % project)\n",
      "    #data = data / float(sum(data))\n",
      "    #data = data / float(data[0])\n",
      "    data = np.append(data, [0.55]*(300 - len(data)))\n",
      "    semilogy(data, lw=2, label=\"%s all\" % project)\n",
      "\n",
      "legend()\n",
      "grid()\n",
      "xlabel(\"individual people\")\n",
      "ylabel(\"total number of patches\")\n",
      "xlim([0, 300]);\n",
      "ylim([0.6, 1e4]);\n",
      "savefig(\"commits-all-b.png\")"
     ],
     "language": "python",
     "metadata": {
      "slideshow": {
       "slide_type": "skip"
      }
     },
     "outputs": []
    },
    {
     "cell_type": "markdown",
     "metadata": {
      "slideshow": {
       "slide_type": "slide"
      }
     },
     "source": [
      "# Git Commits Plots\n",
      "\n",
      "Last year:\n",
      "\n",
      "<img src=\"files/commits1.png\">"
     ]
    },
    {
     "cell_type": "markdown",
     "metadata": {
      "slideshow": {
       "slide_type": "slide"
      }
     },
     "source": [
      "# Git Commits Plots\n",
      "\n",
      "Last year:\n",
      "\n",
      "<img src=\"files/commits1b.png\">"
     ]
    },
    {
     "cell_type": "markdown",
     "metadata": {
      "slideshow": {
       "slide_type": "slide"
      }
     },
     "source": [
      "# Git Commits Plots\n",
      "\n",
      "All time:\n",
      "\n",
      "<img src=\"files/commits-all.png\">"
     ]
    },
    {
     "cell_type": "markdown",
     "metadata": {
      "slideshow": {
       "slide_type": "slide"
      }
     },
     "source": [
      "# Git Commits Plots\n",
      "\n",
      "All time:\n",
      "\n",
      "<img src=\"files/commits-all-b.png\">"
     ]
    },
    {
     "cell_type": "markdown",
     "metadata": {
      "slideshow": {
       "slide_type": "slide"
      }
     },
     "source": [
      "# Challenges, weaknesses?"
     ]
    },
    {
     "cell_type": "markdown",
     "metadata": {
      "slideshow": {
       "slide_type": "slide"
      }
     },
     "source": [
      "# Packaging\n",
      "\n",
      "* Packaging:\n",
      "    * Package dependencies (full Python stack has easily 50+ packages)\n",
      "    * Python independent (C, C++, Fortran, Python, Ruby, ...)\n",
      "    * builds/installs from source (**without** root access)\n",
      "    * binary installation\n",
      "    * virtualenv like environments\n",
      "    * reproducibility (like git: one hash should reproduce exactly the same stack)\n",
      "\n",
      "* Some solutions:\n",
      "    * Conda / binstar (Continuum IO)\n",
      "    * Hahsdist (Chris Kees, Dag Sverre Seljebotn, Ond\u0159ej \u010cert\u00edk, Aron Ahmadia)"
     ]
    },
    {
     "cell_type": "markdown",
     "metadata": {
      "slideshow": {
       "slide_type": "slide"
      }
     },
     "source": [
      "# Speed\n",
      "\n",
      "* Speed matters:\n",
      "    * Cython (wrap Fortran/C/C++):\n",
      "        * pros: best tool to wrap other codes, easily blend C/Python\n",
      "        * cons: you have to master C, Cython and Python (=3 layers)\n",
      "    * Numba: an LLVM JIT for typed code/arrays\n",
      "        * pros: provides nice Python API to generate bare metal speed code\n",
      "        * cons: not mature enough yet\n",
      "    * Julia: an LLVM JIT, new language\n",
      "        * pros: just one language (=1 layer), not Python but integrates seamlessly with Python\n",
      "        * cons: new tool, small community, not mature enough yet\n",
      "        \n",
      "### But: not easy to use as a reusable library in other languages/environments"
     ]
    },
    {
     "cell_type": "markdown",
     "metadata": {
      "slideshow": {
       "slide_type": "slide"
      }
     },
     "source": [
      "# Modern Fortran\n",
      "\n",
      "Domain specific language for **numeric scientific computing**\n",
      "\n",
      "* **basic mathematics** in the core language (rich array operations, complex numbers, exponentiation, special functions)\n",
      "* **simple**, but feature rich (e.g. automatic memory allocation for arrays)\n",
      "* **fast**\n",
      "    \n",
      "Not so good for other things\n",
      "\n",
      "* Symbolic manipulation\n",
      "* Databases\n",
      "* Graphical user interface, plots\n",
      "* Interactive exploratory work\n",
      "* Webservers, web interface, system programming (hardware control)\n",
      "* ..."
     ]
    },
    {
     "cell_type": "markdown",
     "metadata": {
      "slideshow": {
       "slide_type": "slide"
      }
     },
     "source": [
      "# Python Fortran Rosetta Stone\n",
      "\n",
      "Python:\n",
      "```python\n",
      "from numpy import array, size, shape, min, max, sum\n",
      "a = array([1, 2, 3])\n",
      "print shape(a)\n",
      "print size(a)\n",
      "print max(a)\n",
      "print min(a)\n",
      "print sum(a)\n",
      "```\n",
      "Fortran:\n",
      "```fortran\n",
      "integer :: a(3)\n",
      "a = [1, 2, 3]\n",
      "print *, shape(a)\n",
      "print *, size(a)\n",
      "print *, maxval(a)\n",
      "print *, minval(a)\n",
      "print *, sum(a)\n",
      "```"
     ]
    },
    {
     "cell_type": "markdown",
     "metadata": {
      "slideshow": {
       "slide_type": "slide"
      }
     },
     "source": [
      "# Array and Matrix multiplication\n",
      "\n",
      "Python:\n",
      "```python\n",
      "from numpy import array, dot\n",
      "a = array([[1, 2], [3, 4]])\n",
      "b = array([[2, 3], [4, 5]])\n",
      "print a * b\n",
      "print dot(a, b)\n",
      "```\n",
      "Fortran\n",
      "```fortran\n",
      "integer :: a(2, 2), b(2, 2)\n",
      "a = reshape([1, 2, 3, 4], [2, 2], order=[2, 1])\n",
      "b = reshape([2, 3, 4, 5], [2, 2], order=[2, 1])\n",
      "print *, a * b\n",
      "print *, matmul(a, b)\n",
      "```"
     ]
    },
    {
     "cell_type": "markdown",
     "metadata": {
      "slideshow": {
       "slide_type": "slide"
      }
     },
     "source": [
      "# Indexing\n",
      "Python\n",
      "```python\n",
      "from numpy import reshape\n",
      "a = reshape([1, 2, 3, 4, 5, 6], (2, 3))\n",
      "b = reshape([1, 2, 3, 4, 5, 6], (2, 3), order=\"F\")\n",
      "print a[0, :]\n",
      "print a[1, :]\n",
      "print\n",
      "print b[0, :]\n",
      "print b[1, :]\n",
      "```\n",
      "Fortran\n",
      "```fortran\n",
      "integer :: a(2, 3), b(2, 3)\n",
      "a = reshape([1, 2, 3, 4, 5, 6], [2, 3], order=[2, 1])\n",
      "b = reshape([1, 2, 3, 4, 5, 6], [2, 3])\n",
      "print *, a(1, :)\n",
      "print *, a(2, :)\n",
      "print *\n",
      "print *, b(1, :)\n",
      "print *, b(2, :)\n",
      "```"
     ]
    },
    {
     "cell_type": "markdown",
     "metadata": {
      "slideshow": {
       "slide_type": "slide"
      }
     },
     "source": [
      "### More info at: http://fortran90.org"
     ]
    },
    {
     "cell_type": "markdown",
     "metadata": {
      "slideshow": {
       "slide_type": "slide"
      }
     },
     "source": [
      "# Python 2 and 3 transition"
     ]
    },
    {
     "cell_type": "markdown",
     "metadata": {
      "slideshow": {
       "slide_type": "fragment"
      }
     },
     "source": [
      "Guido van van Rossum (2007):\n",
      "\n",
      "> Python 3.0 will break backwards compatibility. Totally. We're not even aiming for a specific common subset."
     ]
    },
    {
     "cell_type": "markdown",
     "metadata": {
      "slideshow": {
       "slide_type": "fragment"
      }
     },
     "source": [
      "Initial recommended way:\n",
      "\n",
      "* Develop in Pyhon 2, use 2to3 tool"
     ]
    },
    {
     "cell_type": "markdown",
     "metadata": {
      "slideshow": {
       "slide_type": "fragment"
      }
     },
     "source": [
      "Problems:\n",
      "\n",
      "* You can't develop in Python 3 (prevents people from switching)\n",
      "* 2to3 is an effective compilation step -> Python becomes a compiled language, like C/C++/Fortran\n",
      "* Even if you develop in Python 2, you still need to test every commit using 2to3 (`Travis-CI`)\n",
      "    * if something breaks, you need to debug it\n",
      "* except that unlike C/C++/Fortran (`cmake`, `make`, ...), it is not robust\n",
      "    * can't integrate well with `setup.py`/distutils\n",
      "    * For SymPy 0.7.3, it takes 4.5 minutes to run the first time and after that 1.5s with one modified file\n",
      "    * doesn't run in parallel\n",
      "    * Error messages not nice, if you do more complex change, you need to rerun from scratch"
     ]
    },
    {
     "cell_type": "markdown",
     "metadata": {
      "slideshow": {
       "slide_type": "slide"
      }
     },
     "source": [
      "# Conclusion\n",
      "\n",
      "* Python is not fun anymore\n",
      "* My enthusiasm for Python as a platform dropped"
     ]
    },
    {
     "cell_type": "markdown",
     "metadata": {
      "slideshow": {
       "slide_type": "slide"
      }
     },
     "source": [
      "# Meantime\n",
      "\n",
      "* Python 2.6 and 2.7 introduced features from Python 3\n",
      "* Python 3.2 and 3.3 introduced features from Python 2\n",
      "* It became **reasonably** simple to use single code base without sacrificing Python features"
     ]
    },
    {
     "cell_type": "markdown",
     "metadata": {
      "slideshow": {
       "slide_type": "fragment"
      }
     },
     "source": [
      "# Solution\n",
      "\n",
      "The recommended way now:\n",
      "\n",
      "* Use single code base\n",
      "* Treat Python 3 as another version of Python, just like Python 2.6 or 2.7\n",
      "* Use `compatibility.py` file (i.e. `from compatibility import range`)\n",
      "* Works for SymPy (over 230k lines, uses almost all Python features)"
     ]
    },
    {
     "cell_type": "markdown",
     "metadata": {
      "slideshow": {
       "slide_type": "slide"
      }
     },
     "source": [
      "Conclusion:\n",
      "\n",
      "* Python 2.6, 2.7, 3.2, 3.3 are just various versions of the same language\n",
      "* You should really be using the latest version by default (3.3)"
     ]
    },
    {
     "cell_type": "markdown",
     "metadata": {},
     "source": [
      "Fernando P\u00e9rez's words:\n",
      "\n",
      "* The **language** lured me in...\n",
      "* But I stayed for the **community**!\n",
      "    * Real **friendships** and incredible people\n",
      "    * A culture of generous and mutual cross-project **collaboration**\n",
      "    * But we have a **ton of work** to do!\n",
      "* The tools we need **must be built by scientists**.\n",
      "\n",
      "### Lots of space for truly innovative thinking, and Python is an expressive tool for the exercise."
     ]
    }
   ],
   "metadata": {}
  }
 ]
}